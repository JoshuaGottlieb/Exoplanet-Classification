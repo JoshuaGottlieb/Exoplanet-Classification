{
 "cells": [
  {
   "cell_type": "markdown",
   "metadata": {},
   "source": [
    "# Import Packages and Define Functions"
   ]
  },
  {
   "cell_type": "code",
   "execution_count": 1,
   "metadata": {},
   "outputs": [
    {
     "name": "stderr",
     "output_type": "stream",
     "text": [
      "/home/joshua/anaconda3/envs/learn-env/lib/python3.8/site-packages/xgboost/compat.py:93: FutureWarning: pandas.Int64Index is deprecated and will be removed from pandas in a future version. Use pandas.Index with the appropriate dtype instead.\n",
      "  from pandas import MultiIndex, Int64Index\n"
     ]
    }
   ],
   "source": [
    "# Import packages\n",
    "import numpy as np\n",
    "import pandas as pd\n",
    "import matplotlib.pyplot as plt\n",
    "import seaborn as sns\n",
    "from sklearn.preprocessing import OneHotEncoder, StandardScaler\n",
    "from sklearn.compose import ColumnTransformer\n",
    "from sklearn.model_selection import KFold, cross_val_score, GridSearchCV\n",
    "from sklearn.linear_model import LogisticRegression\n",
    "from sklearn.tree import DecisionTreeClassifier\n",
    "from sklearn.neighbors import KNeighborsClassifier\n",
    "from sklearn.ensemble import RandomForestClassifier, AdaBoostClassifier, GradientBoostingClassifier\n",
    "from sklearn.ensemble import StackingClassifier, VotingClassifier \n",
    "from sklearn.pipeline import FeatureUnion, Pipeline\n",
    "from sklearn.metrics import accuracy_score, recall_score, precision_score, f1_score, confusion_matrix\n",
    "from sklearn.metrics import classification_report, ConfusionMatrixDisplay, roc_curve, roc_auc_score\n",
    "from sklearn.metrics import make_scorer\n",
    "from imblearn.over_sampling import SMOTE, RandomOverSampler\n",
    "from imblearn.under_sampling import RandomUnderSampler\n",
    "from imblearn.pipeline import Pipeline as IPipeline\n",
    "from xgboost import XGBClassifier\n",
    "from joblib import parallel_backend\n",
    "import pickle\n",
    "import re\n",
    "from packages.model_evaluation import class_k_recall, class_k_precision, class_k_f1, class_k_acc\n",
    "from packages.model_evaluation import evaluate_model"
   ]
  },
  {
   "cell_type": "code",
   "execution_count": 2,
   "metadata": {},
   "outputs": [],
   "source": [
    "# Takes in training and testing data, as well as at least one of an estimator or parameter grid\n",
    "# Creates a pipeline that one-hot encodes object columns and standard scales numerical columns\n",
    "# Then appends the resampling method (if applicable) and the estimator\n",
    "# If grid search is specified, performs a grid search across the parameter grid, using the scoring method entered\n",
    "# If no scoring method is entered, a dummy estimator is needed to establish a scoring method\n",
    "# Optionally plots a confusion matrix\n",
    "# Returns a fitted model\n",
    "def run_model(X_train, X_test, y_train, y_test, estimator = None,\n",
    "              resampling = None, grid_search = False, grid_params = None, cv = None,\n",
    "              scoring = None, plot_confusion = True):\n",
    "    \n",
    "    # Select numeric and object columns, create preprocessing ColumnTransformer\n",
    "    # After reworking the data, there are not longer any columns of object type in the data\n",
    "    numeric_col = X_train.select_dtypes('number').columns.values.tolist()\n",
    "#     object_col = X_train.select_dtypes('object').columns.values.tolist()\n",
    "    steps_no_resampling = [('ssc', StandardScaler(), numeric_col),\n",
    "#                            ('ohe', OneHotEncoder(), object_col)\n",
    "                          ]\n",
    "    preprocess_no_resampling = ColumnTransformer(steps_no_resampling)\n",
    "    \n",
    "    # Create pipeline with resambling and estimator\n",
    "    steps = [('preprocess', preprocess_no_resampling), ('rsm', resampling), ('clf', estimator)]\n",
    "    pipe = IPipeline(steps = steps)\n",
    "    \n",
    "    # If grid_search is input, create a grid search using the entered grid_params\n",
    "    # Else, just use above pipeline\n",
    "    if grid_search:\n",
    "        model = GridSearchCV(pipe, param_grid = grid_params, cv = cv, scoring = scoring)\n",
    "    else:\n",
    "        model = pipe\n",
    "    \n",
    "    # Fit the model using multi-threading - uses all cpu cores\n",
    "    with parallel_backend('threading', n_jobs = -1):\n",
    "        model.fit(X_train, y_train)\n",
    "    \n",
    "    # Plots confusion matrix\n",
    "    if plot_confusion:\n",
    "        ConfusionMatrixDisplay(confusion_matrix(y_test, model.predict(X_test))).plot();\n",
    "        \n",
    "    return model"
   ]
  },
  {
   "cell_type": "markdown",
   "metadata": {},
   "source": [
    "# Import Dataframes"
   ]
  },
  {
   "cell_type": "code",
   "execution_count": 3,
   "metadata": {},
   "outputs": [],
   "source": [
    "# Import dataframes and split into train and test values, as well as X and y values\n",
    "train_multi = pd.read_parquet('../data/cleaned/train_multi.parquet')\n",
    "X_train_multi = train_multi.drop('classification', axis = 1)\n",
    "y_train_multi = train_multi.classification\n",
    "test_multi = pd.read_parquet('../data/cleaned/test_multi.parquet')\n",
    "X_test_multi = test_multi.drop('classification', axis = 1)\n",
    "y_test_multi = test_multi.classification\n",
    "\n",
    "train_binary = pd.read_parquet('../data/cleaned/train_binary.parquet')\n",
    "X_train_binary = train_binary.drop('disposition', axis = 1)\n",
    "y_train_binary = train_binary.disposition\n",
    "test_binary = pd.read_parquet('../data/cleaned/test_binary.parquet')\n",
    "X_test_binary = test_binary.drop('disposition', axis = 1)\n",
    "y_test_binary = test_binary.disposition"
   ]
  },
  {
   "cell_type": "markdown",
   "metadata": {},
   "source": [
    "# Inspect Class Imbalances and Create Sampling Options"
   ]
  },
  {
   "cell_type": "code",
   "execution_count": 4,
   "metadata": {},
   "outputs": [
    {
     "data": {
      "text/plain": [
       "0    1942\n",
       "2     814\n",
       "3     299\n",
       "1     282\n",
       "4      71\n",
       "Name: classification, dtype: int64"
      ]
     },
     "execution_count": 4,
     "metadata": {},
     "output_type": "execute_result"
    }
   ],
   "source": [
    "# Severe class imbalance in multi-class dataset, will need to use resampling methods\n",
    "y_train_multi.value_counts()"
   ]
  },
  {
   "cell_type": "code",
   "execution_count": 5,
   "metadata": {},
   "outputs": [
    {
     "data": {
      "text/plain": [
       "1    2350\n",
       "0    1942\n",
       "Name: disposition, dtype: int64"
      ]
     },
     "execution_count": 5,
     "metadata": {},
     "output_type": "execute_result"
    }
   ],
   "source": [
    "# Classes are mostly balanced in binary class dataset, resampling probably not needed\n",
    "y_train_binary.value_counts()"
   ]
  },
  {
   "cell_type": "code",
   "execution_count": 6,
   "metadata": {},
   "outputs": [],
   "source": [
    "# Test SMOTE and RandomOverSampler, as there is not enough data to use RandomUnderSampler\n",
    "samplers = [(SMOTE(random_state = 42, n_jobs = -1)),\n",
    "            (RandomOverSampler(random_state = 42))]"
   ]
  },
  {
   "cell_type": "markdown",
   "metadata": {},
   "source": [
    "# Binary Class Models"
   ]
  },
  {
   "cell_type": "code",
   "execution_count": 7,
   "metadata": {},
   "outputs": [
    {
     "data": {
      "image/png": "[encoded data removed]",
      "text/plain": [
       "<Figure size 432x288 with 2 Axes>"
      ]
     },
     "metadata": {
      "needs_background": "light"
     },
     "output_type": "display_data"
    }
   ],
   "source": [
    "# Baseline logistic regression model\n",
    "base_logistic_pipe = run_model(X_train_binary, X_test_binary, y_train_binary, y_test_binary,\n",
    "                               estimator = LogisticRegression(random_state = 42, max_iter = 1000),\n",
    "                               plot_confusion = True)\n",
    "\n",
    "# with open('../data/models/binary/binary_base_logistic.pickle', 'wb') as f:\n",
    "#     pickle.dump(base_logistic_pipe, f)"
   ]
  },
  {
   "cell_type": "code",
   "execution_count": 102,
   "metadata": {},
   "outputs": [
    {
     "data": {
      "image/png": "[encoded data removed]",
      "text/plain": [
       "<Figure size 432x288 with 2 Axes>"
      ]
     },
     "metadata": {
      "needs_background": "light"
     },
     "output_type": "display_data"
    }
   ],
   "source": [
    "# Hyperparameter-tuned logistic regression\n",
    "params = [\n",
    "    {\n",
    "        'clf': (LogisticRegression(random_state = 42, max_iter = 5000),),\n",
    "        'clf__C': [1e-4, 1e-3, 1e-2, 1, 1e2, 1e3, 1e4],\n",
    "    }\n",
    "]\n",
    "\n",
    "logistic = run_model(X_train_binary, X_test_binary, y_train_binary, y_test_binary,\n",
    "                     grid_search = True, grid_params = params, estimator = LogisticRegression(),\n",
    "                     plot_confusion = True)\n",
    "\n",
    "# with open('../data/models/binary/binary_logistic.pickle', 'wb') as f:\n",
    "#     pickle.dump(logistic, f)"
   ]
  },
  {
   "cell_type": "code",
   "execution_count": 107,
   "metadata": {},
   "outputs": [
    {
     "data": {
      "image/png": "[encoded data removed]",
      "text/plain": [
       "<Figure size 432x288 with 2 Axes>"
      ]
     },
     "metadata": {
      "needs_background": "light"
     },
     "output_type": "display_data"
    }
   ],
   "source": [
    "# Tuned decision tree model\n",
    "params = [\n",
    "    {\n",
    "        'clf': (DecisionTreeClassifier(random_state = 42),),\n",
    "        'clf__max_depth': [5, 7, 9, 11, 13],\n",
    "        'clf__criterion': ['gini', 'entropy'],\n",
    "        'clf__max_features': ['sqrt', None]\n",
    "    }\n",
    "]\n",
    "\n",
    "tree = run_model(X_train_binary, X_test_binary, y_train_binary, y_test_binary,\n",
    "                 grid_search = True, grid_params = params, estimator = DecisionTreeClassifier(),\n",
    "                 plot_confusion = True)\n",
    "\n",
    "# with open('../data/models/binary/binary_tree.pickle', 'wb') as f:\n",
    "#     pickle.dump(tree, f)"
   ]
  },
  {
   "cell_type": "code",
   "execution_count": 111,
   "metadata": {},
   "outputs": [
    {
     "data": {
      "image/png": "[encoded data removed]",
      "text/plain": [
       "<Figure size 432x288 with 2 Axes>"
      ]
     },
     "metadata": {
      "needs_background": "light"
     },
     "output_type": "display_data"
    }
   ],
   "source": [
    "# Tuned Random Forest model\n",
    "# Max depth impacts the strength of each learner - had more success using stronger learners (default 1)\n",
    "# Grid Search minimal due to computation requirements\n",
    "params = [\n",
    "    {\n",
    "        'clf': (RandomForestClassifier(random_state = 42),),\n",
    "        'clf__n_estimators': [100, 300],\n",
    "        'clf__max_depth': [5, 7, 9]\n",
    "#         'rsm': samplers\n",
    "    }\n",
    "]\n",
    "\n",
    "random_forest = run_model(X_train_binary, X_test_binary, y_train_binary, y_test_binary,\n",
    "                          estimator = RandomForestClassifier(),\n",
    "                          grid_search = True, grid_params = params, scoring = None,\n",
    "                          cv = 5, plot_confusion = True)\n",
    "\n",
    "# with open('../data/models/binary/binary_random_forest.pickle', 'wb') as f:\n",
    "#     pickle.dump(random_forest, f)"
   ]
  },
  {
   "cell_type": "code",
   "execution_count": 94,
   "metadata": {
    "scrolled": true
   },
   "outputs": [
    {
     "data": {
      "image/png": "[encoded data removed]",
      "text/plain": [
       "<Figure size 432x288 with 2 Axes>"
      ]
     },
     "metadata": {
      "needs_background": "light"
     },
     "output_type": "display_data"
    }
   ],
   "source": [
    "# Tuned K-Nearest Neighbors model\n",
    "params = [\n",
    "    {\n",
    "        'clf': (KNeighborsClassifier(),),\n",
    "        'clf__n_neighbors': [3, 5, 7, 9, 11, 13],\n",
    "        'rsm': samplers\n",
    "    }\n",
    "]\n",
    "\n",
    "kneighbors = run_model(X_train_binary, X_test_binary, y_train_binary, y_test_binary,\n",
    "                       estimator = KNeighborsClassifier(),\n",
    "                       grid_search = True, grid_params = params,\n",
    "                       cv = 5, plot_confusion = True)\n",
    "\n",
    "# with open('../data/models/binary/binary_kneighbors.pickle', 'wb') as f:\n",
    "#     pickle.dump(kneighbors, f)"
   ]
  },
  {
   "cell_type": "code",
   "execution_count": 72,
   "metadata": {},
   "outputs": [
    {
     "data": {
      "image/png": "[encoded data removed]",
      "text/plain": [
       "<Figure size 432x288 with 2 Axes>"
      ]
     },
     "metadata": {
      "needs_background": "light"
     },
     "output_type": "display_data"
    }
   ],
   "source": [
    "# Tuned AdaBoost Tree Classifier\n",
    "# Testing with various weak base estimators, as well as number of estimators and learning rate\n",
    "# Grid Search minimal due to computation requirements\n",
    "params = [\n",
    "    {\n",
    "        'clf': (AdaBoostClassifier(random_state = 42),),\n",
    "        'clf__base_estimator': [DecisionTreeClassifier(random_state = 42, max_depth = 1),\n",
    "                           DecisionTreeClassifier(random_state = 42, max_depth = 2)],\n",
    "        'clf__n_estimators': [100, 200, 300, 400, 500],\n",
    "        'clf__learning_rate': [0.1, 1],\n",
    "#         'rsm': samplers\n",
    "    }\n",
    "]\n",
    "\n",
    "adaboost = run_model(X_train_binary, X_test_binary, y_train_binary, y_test_binary,\n",
    "                     estimator = AdaBoostClassifier(),\n",
    "                     grid_search = True, grid_params = params,\n",
    "                     cv = 5, plot_confusion = True)\n",
    "\n",
    "# with open('../data/models/binary/binary_adaboost.pickle', 'wb') as f:\n",
    "#     pickle.dump(adaboost, f)"
   ]
  },
  {
   "cell_type": "code",
   "execution_count": 81,
   "metadata": {},
   "outputs": [
    {
     "data": {
      "image/png": "[encoded data removed]",
      "text/plain": [
       "<Figure size 432x288 with 2 Axes>"
      ]
     },
     "metadata": {
      "needs_background": "light"
     },
     "output_type": "display_data"
    }
   ],
   "source": [
    "# Tuned Gradient Boosting Tree Classifier\n",
    "# Gradient Boosting resilient to overfitting, so number of estimators increased (default 100)\n",
    "# Tested using subset of features\n",
    "# Grid Search minimal due to computation requirements\n",
    "params = [\n",
    "    {\n",
    "        'clf': (GradientBoostingClassifier(random_state = 42),),\n",
    "        'clf__n_estimators': [100, 500, 1000],\n",
    "        'clf__max_features': [None, 'sqrt'],\n",
    "        'clf__max_depth': [2, 3]\n",
    "#         'rsm': samplers\n",
    "    }\n",
    "]\n",
    "\n",
    "gradientboost = run_model(X_train_binary, X_test_binary, y_train_binary, y_test_binary,\n",
    "                     estimator = GradientBoostingClassifier(),\n",
    "                     grid_search = True, grid_params = params,\n",
    "                     cv = 5, plot_confusion = True)\n",
    "\n",
    "# with open('../data/models/binary/binary_gradientboost.pickle', 'wb') as f:\n",
    "#     pickle.dump(gradientboost, f)"
   ]
  },
  {
   "cell_type": "code",
   "execution_count": 8,
   "metadata": {},
   "outputs": [
    {
     "data": {
      "image/png": "[encoded data removed]",
      "text/plain": [
       "<Figure size 432x288 with 2 Axes>"
      ]
     },
     "metadata": {
      "needs_background": "light"
     },
     "output_type": "display_data"
    }
   ],
   "source": [
    "# Tuned XG Boost Tree Classifier\n",
    "# Scored on accuracy\n",
    "# Stronger estimators performed better (default max_depth = 6)\n",
    "# Grid Search minimal due to computation requirements\n",
    "params = [\n",
    "    {\n",
    "        'clf': (XGBClassifier(random_state = 42),),\n",
    "        'clf__n_estimators': [100, 500, 1000],\n",
    "        'clf__max_depth': [6, 9, 12],\n",
    "#         'rsm': samplers\n",
    "    }\n",
    "]\n",
    "\n",
    "xgboost = run_model(X_train_binary, X_test_binary, y_train_binary, y_test_binary,\n",
    "                     estimator = XGBClassifier(), grid_search = True, grid_params = params,\n",
    "                     cv = 5, plot_confusion = True)\n",
    "\n",
    "# with open('../data/models/binary/binary_xgboost.pickle', 'wb') as f:\n",
    "#     pickle.dump(xgboost, f)"
   ]
  },
  {
   "cell_type": "code",
   "execution_count": 9,
   "metadata": {
    "scrolled": true
   },
   "outputs": [
    {
     "data": {
      "image/png": "[encoded data removed]",
      "text/plain": [
       "<Figure size 432x288 with 2 Axes>"
      ]
     },
     "metadata": {
      "needs_background": "light"
     },
     "output_type": "display_data"
    }
   ],
   "source": [
    "# Testing a tuned XG Boost Tree Classifier using class 0 recall as scoring metric\n",
    "# Ideally, we want to maximize the number of confirmed planets correctly identified\n",
    "# Even at the expense of some false positives being confirmed as planets\n",
    "# Appears to have performed relatively similarly - differences likely due to stochasticity\n",
    "params = [\n",
    "    {\n",
    "        'clf': (XGBClassifier(random_state = 42),),\n",
    "        'clf__n_estimators': [1000],\n",
    "        'clf__max_depth': [9, 12, None],\n",
    "#         'rsm': samplers\n",
    "    }\n",
    "]\n",
    "\n",
    "xgboost_class_0_recall = run_model(X_train_binary, X_test_binary, y_train_binary, y_test_binary,\n",
    "                                   grid_search = True, grid_params = params,\n",
    "                                   scoring = make_scorer(class_k_recall, k = 0), cv = 5, plot_confusion = True)\n",
    "\n",
    "# with open('../data/models/binary/binary_xgboost_class_0_recall.pickle', 'wb') as f:\n",
    "#     pickle.dump(xgboost_class_0_recall, f)"
   ]
  },
  {
   "cell_type": "markdown",
   "metadata": {},
   "source": [
    "# Multiclass Models"
   ]
  },
  {
   "cell_type": "code",
   "execution_count": 120,
   "metadata": {
    "scrolled": true
   },
   "outputs": [
    {
     "data": {
      "image/png": "[encoded data removed]",
      "text/plain": [
       "<Figure size 432x288 with 2 Axes>"
      ]
     },
     "metadata": {
      "needs_background": "light"
     },
     "output_type": "display_data"
    }
   ],
   "source": [
    "# Base decision tree classifier without resampling\n",
    "base_decision_tree = run_model(X_train_multi, X_test_multi, y_train_multi, y_test_multi,\n",
    "                     estimator = DecisionTreeClassifier(random_state = 42), plot_confusion = True)"
   ]
  },
  {
   "cell_type": "code",
   "execution_count": 10,
   "metadata": {},
   "outputs": [
    {
     "data": {
      "image/png": "[encoded data removed]",
      "text/plain": [
       "<Figure size 432x288 with 2 Axes>"
      ]
     },
     "metadata": {
      "needs_background": "light"
     },
     "output_type": "display_data"
    }
   ],
   "source": [
    "# Base decision tree classifier with resampling\n",
    "# Resampling needed for multi-class dataset due to class imbalance\n",
    "params = [\n",
    "    {\n",
    "        'clf': (DecisionTreeClassifier(random_state = 42),),\n",
    "        'rsm': samplers\n",
    "    }\n",
    "]\n",
    "\n",
    "base_tree_sampling = run_model(X_train_multi, X_test_multi, y_train_multi, y_test_multi,\n",
    "                               estimator = DecisionTreeClassifier(), grid_search = True, grid_params = params,\n",
    "                               cv = 5, plot_confusion = True)\n",
    "\n",
    "# with open('../data/models/multi/multi_base_tree.pickle', 'wb') as f:\n",
    "#     pickle.dump(base_tree_sampling, f)"
   ]
  },
  {
   "cell_type": "code",
   "execution_count": 134,
   "metadata": {},
   "outputs": [
    {
     "data": {
      "image/png": "[encoded data removed]",
      "text/plain": [
       "<Figure size 432x288 with 2 Axes>"
      ]
     },
     "metadata": {
      "needs_background": "light"
     },
     "output_type": "display_data"
    }
   ],
   "source": [
    "# Tuned decision tree classifier\n",
    "params = [\n",
    "    {\n",
    "        'clf': (DecisionTreeClassifier(random_state = 42),),\n",
    "        'clf__max_depth': [5, 7, 9, 11, 13],\n",
    "        'clf__criterion': ['gini', 'entropy'],\n",
    "        'clf__max_features': ['sqrt', None],\n",
    "        'rsm': samplers\n",
    "    }\n",
    "]\n",
    "\n",
    "tree = run_model(X_train_multi, X_test_multi, y_train_multi, y_test_multi,\n",
    "                 estimator = DecisionTreeClassifier(), grid_search = True, grid_params = params,\n",
    "                 cv = 5, plot_confusion = True)\n",
    "\n",
    "# with open('../data/models/multi/multi_tree.pickle', 'wb') as f:\n",
    "#     pickle.dump(tree, f)"
   ]
  },
  {
   "cell_type": "code",
   "execution_count": 160,
   "metadata": {
    "scrolled": true
   },
   "outputs": [
    {
     "data": {
      "image/png": "[encoded data removed]",
      "text/plain": [
       "<Figure size 432x288 with 2 Axes>"
      ]
     },
     "metadata": {
      "needs_background": "light"
     },
     "output_type": "display_data"
    }
   ],
   "source": [
    "# Tuned K-Nearest Neighbors Classifier\n",
    "params = [\n",
    "    {\n",
    "        'clf': (KNeighborsClassifier(),),\n",
    "        'clf__n_neighbors': [3, 5, 7, 9],\n",
    "        'clf__weights': ['uniform', 'distance'],\n",
    "        'rsm': samplers\n",
    "    }\n",
    "]\n",
    "\n",
    "kneighbors = run_model(X_train_multi, X_test_multi, y_train_multi, y_test_multi,\n",
    "                 estimator = KNeighborsClassifier(), grid_search = True, grid_params = params,\n",
    "                 cv = 5, plot_confusion = True)\n",
    "\n",
    "# with open('../data/models/multi/multi_kneighbors.pickle', 'wb') as f:\n",
    "#     pickle.dump(kneighbors, f)"
   ]
  },
  {
   "cell_type": "code",
   "execution_count": 169,
   "metadata": {},
   "outputs": [
    {
     "data": {
      "image/png": "[encoded data removed]",
      "text/plain": [
       "<Figure size 432x288 with 2 Axes>"
      ]
     },
     "metadata": {
      "needs_background": "light"
     },
     "output_type": "display_data"
    }
   ],
   "source": [
    "# Tuned Random Forest Classifier\n",
    "# Resampling with such large class imbalances is very computationally expensive\n",
    "# Grid Search limited due to computational difficulties\n",
    "params = [\n",
    "    {\n",
    "        'clf': (RandomForestClassifier(random_state = 42),),\n",
    "        'clf__n_estimators': [100, 300],\n",
    "        'clf__max_depth': [5, 7, 9],\n",
    "        'rsm': samplers\n",
    "    }\n",
    "]\n",
    "\n",
    "random_forest = run_model(X_train_multi, X_test_multi, y_train_multi, y_test_multi,\n",
    "                          estimator = RandomForestClassifier(),\n",
    "                          grid_search = True, grid_params = params, scoring = None,\n",
    "                          cv = 5, plot_confusion = True)\n",
    "\n",
    "# with open('../data/models/multi/multi_random_forest.pickle', 'wb') as f:\n",
    "#     pickle.dump(random_forest, f)"
   ]
  },
  {
   "cell_type": "code",
   "execution_count": 172,
   "metadata": {},
   "outputs": [
    {
     "data": {
      "image/png": "[encoded data removed]",
      "text/plain": [
       "<Figure size 432x288 with 2 Axes>"
      ]
     },
     "metadata": {
      "needs_background": "light"
     },
     "output_type": "display_data"
    }
   ],
   "source": [
    "# Tuned AdaBoost Tree Classifier\n",
    "# Tested various weak learners\n",
    "# Grid Search limited due to computational difficulties\n",
    "params = [\n",
    "    {\n",
    "        'clf': (AdaBoostClassifier(random_state = 42),),\n",
    "        'clf__base_estimator': [DecisionTreeClassifier(random_state = 42, max_depth = 1),\n",
    "                                DecisionTreeClassifier(random_state = 42, max_depth = 2),\n",
    "                                DecisionTreeClassifier(random_state = 42, max_depth = 3)],\n",
    "        'clf__n_estimators': [100, 300, 500],\n",
    "        'rsm': samplers\n",
    "    }\n",
    "]\n",
    "\n",
    "adaboost = run_model(X_train_multi, X_test_multi, y_train_multi, y_test_multi,\n",
    "                     estimator = AdaBoostClassifier(),\n",
    "                     grid_search = True, grid_params = params,\n",
    "                     cv = 5, plot_confusion = True)\n",
    "\n",
    "# with open('../data/models/multi/multi_adaboost.pickle', 'wb') as f:\n",
    "#     pickle.dump(adaboost, f)"
   ]
  },
  {
   "cell_type": "code",
   "execution_count": 179,
   "metadata": {},
   "outputs": [
    {
     "data": {
      "image/png": "[encoded data removed]",
      "text/plain": [
       "<Figure size 432x288 with 2 Axes>"
      ]
     },
     "metadata": {
      "needs_background": "light"
     },
     "output_type": "display_data"
    }
   ],
   "source": [
    "# Tuned Gradient Boosting Tree Classifier\n",
    "# Grid Search very limited due to computational difficulties\n",
    "params = [\n",
    "    {\n",
    "        'clf': (GradientBoostingClassifier(random_state = 42),),\n",
    "#         'clf__n_estimators': [100, 500],\n",
    "        'clf__max_features': [None, 'sqrt'],\n",
    "        'clf__max_depth': [2, 3],\n",
    "        'rsm': samplers\n",
    "    }\n",
    "]\n",
    "\n",
    "gradientboost = run_model(X_train_multi, X_test_multi, y_train_multi, y_test_multi,\n",
    "                     estimator = GradientBoostingClassifier(),\n",
    "                     grid_search = True, grid_params = params,\n",
    "                     cv = 5, plot_confusion = True)\n",
    "\n",
    "# with open('../data/models/multi/multi_gradientboost.pickle', 'wb') as f:\n",
    "#     pickle.dump(gradientboost, f)"
   ]
  },
  {
   "cell_type": "code",
   "execution_count": 11,
   "metadata": {},
   "outputs": [
    {
     "data": {
      "image/png": "[encoded data removed]",
      "text/plain": [
       "<Figure size 432x288 with 2 Axes>"
      ]
     },
     "metadata": {
      "needs_background": "light"
     },
     "output_type": "display_data"
    }
   ],
   "source": [
    "# Tuned XG Boost Tree Classifier\n",
    "# Grid Search very limited due to computational difficulties\n",
    "params = [\n",
    "    {\n",
    "        'clf': (XGBClassifier(random_state = 42),),\n",
    "        'clf__n_estimators': [1000],\n",
    "        'clf__max_depth': [6, 12],\n",
    "        'clf__colsample_bynode': [0.5, 1],\n",
    "        'rsm': samplers\n",
    "    }\n",
    "]\n",
    "\n",
    "xgboost = run_model(X_train_multi, X_test_multi, y_train_multi, y_test_multi,\n",
    "                     estimator = XGBClassifier(), grid_search = True, grid_params = params,\n",
    "                     cv = 5, plot_confusion = True)\n",
    "\n",
    "# with open('../data/models/multi/multi_xgboost.pickle', 'wb') as f:\n",
    "#     pickle.dump(xgboost, f)"
   ]
  },
  {
   "cell_type": "code",
   "execution_count": 13,
   "metadata": {},
   "outputs": [
    {
     "data": {
      "image/png": "[encoded data removed]",
      "text/plain": [
       "<Figure size 432x288 with 2 Axes>"
      ]
     },
     "metadata": {
      "needs_background": "light"
     },
     "output_type": "display_data"
    }
   ],
   "source": [
    "# Testing a tuned XG Boost Tree Classifier using class 0 recall as scoring metric\n",
    "# Appears to have performed relatively similarly\n",
    "# Minor increase in class 3 and class 4 identification at the expense of class 2 identification\n",
    "# Grid Search very limited due to computational difficulties and lack of time\n",
    "params = [\n",
    "    {\n",
    "        'clf': (XGBClassifier(random_state = 42),),\n",
    "        'clf__n_estimators': [500],\n",
    "        'clf__max_depth': [3, 6],\n",
    "        'clf__colsample_bynode': [0.25, 0.5],\n",
    "        'rsm': [samplers[-2]]\n",
    "    }\n",
    "]\n",
    "\n",
    "xgboost_class_0_recall = run_model(X_train_multi, X_test_multi, y_train_multi, y_test_multi,\n",
    "                     grid_search = True, grid_params = params, scoring = make_scorer(class_k_recall, k = 0),\n",
    "                     cv = 3, plot_confusion = True)\n",
    "\n",
    "# with open('../data/models/multi/multi_xgboost_class_0_recall.pickle', 'wb') as f:\n",
    "#     pickle.dump(xgboost_class_0_recall, f)"
   ]
  },
  {
   "cell_type": "markdown",
   "metadata": {},
   "source": [
    "# Model Analysis"
   ]
  },
  {
   "cell_type": "code",
   "execution_count": 14,
   "metadata": {},
   "outputs": [
    {
     "data": {
      "text/html": [
       "<div>\n",
       "<style scoped>\n",
       "    .dataframe tbody tr th:only-of-type {\n",
       "        vertical-align: middle;\n",
       "    }\n",
       "\n",
       "    .dataframe tbody tr th {\n",
       "        vertical-align: top;\n",
       "    }\n",
       "\n",
       "    .dataframe thead th {\n",
       "        text-align: right;\n",
       "    }\n",
       "</style>\n",
       "<table border=\"1\" class=\"dataframe\">\n",
       "  <thead>\n",
       "    <tr style=\"text-align: right;\">\n",
       "      <th></th>\n",
       "      <th>recall</th>\n",
       "      <th>precision</th>\n",
       "      <th>f1</th>\n",
       "      <th>accuracy</th>\n",
       "      <th>auc</th>\n",
       "    </tr>\n",
       "  </thead>\n",
       "  <tbody>\n",
       "    <tr>\n",
       "      <th>0</th>\n",
       "      <td>0.956701</td>\n",
       "      <td>0.929860</td>\n",
       "      <td>0.943089</td>\n",
       "      <td>0.94781</td>\n",
       "      <td>0.986426</td>\n",
       "    </tr>\n",
       "    <tr>\n",
       "      <th>1</th>\n",
       "      <td>0.940476</td>\n",
       "      <td>0.963415</td>\n",
       "      <td>0.951807</td>\n",
       "      <td>NaN</td>\n",
       "      <td>NaN</td>\n",
       "    </tr>\n",
       "  </tbody>\n",
       "</table>\n",
       "</div>"
      ],
      "text/plain": [
       "     recall  precision        f1  accuracy       auc\n",
       "0  0.956701   0.929860  0.943089   0.94781  0.986426\n",
       "1  0.940476   0.963415  0.951807       NaN       NaN"
      ]
     },
     "execution_count": 14,
     "metadata": {},
     "output_type": "execute_result"
    }
   ],
   "source": [
    "# Inspecting baseline binary logistic model\n",
    "with open('../data/models/binary/binary_base_logistic.pickle', 'rb') as f:\n",
    "    base_binary_model = pickle.load(f)\n",
    "\n",
    "base_binary_class_report, base_binary_features = evaluate_model(X_test_binary, y_test_binary, base_binary_model)\n",
    "base_binary_class_report"
   ]
  },
  {
   "cell_type": "code",
   "execution_count": 15,
   "metadata": {},
   "outputs": [
    {
     "data": {
      "text/html": [
       "<div>\n",
       "<style scoped>\n",
       "    .dataframe tbody tr th:only-of-type {\n",
       "        vertical-align: middle;\n",
       "    }\n",
       "\n",
       "    .dataframe tbody tr th {\n",
       "        vertical-align: top;\n",
       "    }\n",
       "\n",
       "    .dataframe thead th {\n",
       "        text-align: right;\n",
       "    }\n",
       "</style>\n",
       "<table border=\"1\" class=\"dataframe\">\n",
       "  <thead>\n",
       "    <tr style=\"text-align: right;\">\n",
       "      <th></th>\n",
       "      <th>feature</th>\n",
       "      <th>coefficient</th>\n",
       "    </tr>\n",
       "  </thead>\n",
       "  <tbody>\n",
       "    <tr>\n",
       "      <th>26</th>\n",
       "      <td>planet_star_radius_ratio</td>\n",
       "      <td>5.263402</td>\n",
       "    </tr>\n",
       "    <tr>\n",
       "      <th>44</th>\n",
       "      <td>angular_offset_sky</td>\n",
       "      <td>5.225884</td>\n",
       "    </tr>\n",
       "    <tr>\n",
       "      <th>24</th>\n",
       "      <td>transit_depth</td>\n",
       "      <td>2.839433</td>\n",
       "    </tr>\n",
       "    <tr>\n",
       "      <th>12</th>\n",
       "      <td>max_single_event_stat</td>\n",
       "      <td>2.317015</td>\n",
       "    </tr>\n",
       "    <tr>\n",
       "      <th>29</th>\n",
       "      <td>planet_temp</td>\n",
       "      <td>1.783650</td>\n",
       "    </tr>\n",
       "    <tr>\n",
       "      <th>22</th>\n",
       "      <td>impact</td>\n",
       "      <td>1.745838</td>\n",
       "    </tr>\n",
       "    <tr>\n",
       "      <th>23</th>\n",
       "      <td>transit_duration</td>\n",
       "      <td>1.674345</td>\n",
       "    </tr>\n",
       "    <tr>\n",
       "      <th>13</th>\n",
       "      <td>max_multi_event_stat</td>\n",
       "      <td>1.527289</td>\n",
       "    </tr>\n",
       "    <tr>\n",
       "      <th>30</th>\n",
       "      <td>star_temp</td>\n",
       "      <td>1.496159</td>\n",
       "    </tr>\n",
       "    <tr>\n",
       "      <th>27</th>\n",
       "      <td>planet_star_distance_radius</td>\n",
       "      <td>1.408665</td>\n",
       "    </tr>\n",
       "    <tr>\n",
       "      <th>20</th>\n",
       "      <td>planet_radius_earth</td>\n",
       "      <td>1.347262</td>\n",
       "    </tr>\n",
       "    <tr>\n",
       "      <th>8</th>\n",
       "      <td>h_band_mag</td>\n",
       "      <td>1.149348</td>\n",
       "    </tr>\n",
       "    <tr>\n",
       "      <th>33</th>\n",
       "      <td>star_radius</td>\n",
       "      <td>1.117478</td>\n",
       "    </tr>\n",
       "    <tr>\n",
       "      <th>7</th>\n",
       "      <td>j_band_mag</td>\n",
       "      <td>1.094279</td>\n",
       "    </tr>\n",
       "    <tr>\n",
       "      <th>9</th>\n",
       "      <td>k_band_mag</td>\n",
       "      <td>1.089713</td>\n",
       "    </tr>\n",
       "  </tbody>\n",
       "</table>\n",
       "</div>"
      ],
      "text/plain": [
       "                        feature  coefficient\n",
       "26     planet_star_radius_ratio     5.263402\n",
       "44           angular_offset_sky     5.225884\n",
       "24                transit_depth     2.839433\n",
       "12        max_single_event_stat     2.317015\n",
       "29                  planet_temp     1.783650\n",
       "22                       impact     1.745838\n",
       "23             transit_duration     1.674345\n",
       "13         max_multi_event_stat     1.527289\n",
       "30                    star_temp     1.496159\n",
       "27  planet_star_distance_radius     1.408665\n",
       "20          planet_radius_earth     1.347262\n",
       "8                    h_band_mag     1.149348\n",
       "33                  star_radius     1.117478\n",
       "7                    j_band_mag     1.094279\n",
       "9                    k_band_mag     1.089713"
      ]
     },
     "execution_count": 15,
     "metadata": {},
     "output_type": "execute_result"
    }
   ],
   "source": [
    "base_binary_features.coefficient = base_binary_features.coefficient.abs()\n",
    "base_binary_features.nlargest(15, 'coefficient')"
   ]
  },
  {
   "cell_type": "code",
   "execution_count": 16,
   "metadata": {},
   "outputs": [
    {
     "data": {
      "text/html": [
       "<div>\n",
       "<style scoped>\n",
       "    .dataframe tbody tr th:only-of-type {\n",
       "        vertical-align: middle;\n",
       "    }\n",
       "\n",
       "    .dataframe tbody tr th {\n",
       "        vertical-align: top;\n",
       "    }\n",
       "\n",
       "    .dataframe thead th {\n",
       "        text-align: right;\n",
       "    }\n",
       "</style>\n",
       "<table border=\"1\" class=\"dataframe\">\n",
       "  <thead>\n",
       "    <tr style=\"text-align: right;\">\n",
       "      <th></th>\n",
       "      <th>recall</th>\n",
       "      <th>precision</th>\n",
       "      <th>f1</th>\n",
       "      <th>accuracy</th>\n",
       "      <th>auc</th>\n",
       "    </tr>\n",
       "  </thead>\n",
       "  <tbody>\n",
       "    <tr>\n",
       "      <th>0</th>\n",
       "      <td>0.977320</td>\n",
       "      <td>0.983402</td>\n",
       "      <td>0.980352</td>\n",
       "      <td>0.982293</td>\n",
       "      <td>0.995866</td>\n",
       "    </tr>\n",
       "    <tr>\n",
       "      <th>1</th>\n",
       "      <td>0.986395</td>\n",
       "      <td>0.981387</td>\n",
       "      <td>0.983885</td>\n",
       "      <td>NaN</td>\n",
       "      <td>NaN</td>\n",
       "    </tr>\n",
       "  </tbody>\n",
       "</table>\n",
       "</div>"
      ],
      "text/plain": [
       "     recall  precision        f1  accuracy       auc\n",
       "0  0.977320   0.983402  0.980352  0.982293  0.995866\n",
       "1  0.986395   0.981387  0.983885       NaN       NaN"
      ]
     },
     "execution_count": 16,
     "metadata": {},
     "output_type": "execute_result"
    }
   ],
   "source": [
    "# Inspecting final xgboost (accuracy scoring) binary model\n",
    "with open('../data/models/binary/binary_xgboost.pickle', 'rb') as f:\n",
    "    best_binary_model = pickle.load(f)\n",
    "\n",
    "best_binary_class_report, best_binary_features = evaluate_model(X_test_binary, y_test_binary, best_binary_model)\n",
    "best_binary_class_report"
   ]
  },
  {
   "cell_type": "code",
   "execution_count": 17,
   "metadata": {},
   "outputs": [
    {
     "data": {
      "text/html": [
       "<div>\n",
       "<style scoped>\n",
       "    .dataframe tbody tr th:only-of-type {\n",
       "        vertical-align: middle;\n",
       "    }\n",
       "\n",
       "    .dataframe tbody tr th {\n",
       "        vertical-align: top;\n",
       "    }\n",
       "\n",
       "    .dataframe thead th {\n",
       "        text-align: right;\n",
       "    }\n",
       "</style>\n",
       "<table border=\"1\" class=\"dataframe\">\n",
       "  <thead>\n",
       "    <tr style=\"text-align: right;\">\n",
       "      <th></th>\n",
       "      <th>feature</th>\n",
       "      <th>coefficient</th>\n",
       "    </tr>\n",
       "  </thead>\n",
       "  <tbody>\n",
       "    <tr>\n",
       "      <th>35</th>\n",
       "      <td>flux_weight_offset_sig</td>\n",
       "      <td>0.370366</td>\n",
       "    </tr>\n",
       "    <tr>\n",
       "      <th>20</th>\n",
       "      <td>planet_radius_earth</td>\n",
       "      <td>0.131406</td>\n",
       "    </tr>\n",
       "    <tr>\n",
       "      <th>0</th>\n",
       "      <td>num_of_objects_around_star</td>\n",
       "      <td>0.093754</td>\n",
       "    </tr>\n",
       "    <tr>\n",
       "      <th>13</th>\n",
       "      <td>max_multi_event_stat</td>\n",
       "      <td>0.074179</td>\n",
       "    </tr>\n",
       "    <tr>\n",
       "      <th>44</th>\n",
       "      <td>angular_offset_sky</td>\n",
       "      <td>0.069527</td>\n",
       "    </tr>\n",
       "    <tr>\n",
       "      <th>27</th>\n",
       "      <td>planet_star_distance_radius</td>\n",
       "      <td>0.050094</td>\n",
       "    </tr>\n",
       "    <tr>\n",
       "      <th>26</th>\n",
       "      <td>planet_star_radius_ratio</td>\n",
       "      <td>0.028632</td>\n",
       "    </tr>\n",
       "    <tr>\n",
       "      <th>29</th>\n",
       "      <td>planet_temp</td>\n",
       "      <td>0.011607</td>\n",
       "    </tr>\n",
       "    <tr>\n",
       "      <th>32</th>\n",
       "      <td>star_metallicity</td>\n",
       "      <td>0.009010</td>\n",
       "    </tr>\n",
       "    <tr>\n",
       "      <th>46</th>\n",
       "      <td>star_density</td>\n",
       "      <td>0.008322</td>\n",
       "    </tr>\n",
       "    <tr>\n",
       "      <th>30</th>\n",
       "      <td>star_temp</td>\n",
       "      <td>0.007303</td>\n",
       "    </tr>\n",
       "    <tr>\n",
       "      <th>38</th>\n",
       "      <td>centroid_right_ascension_offset</td>\n",
       "      <td>0.006887</td>\n",
       "    </tr>\n",
       "    <tr>\n",
       "      <th>21</th>\n",
       "      <td>orbit_semimajor_axis</td>\n",
       "      <td>0.006865</td>\n",
       "    </tr>\n",
       "    <tr>\n",
       "      <th>23</th>\n",
       "      <td>transit_duration</td>\n",
       "      <td>0.006848</td>\n",
       "    </tr>\n",
       "    <tr>\n",
       "      <th>12</th>\n",
       "      <td>max_single_event_stat</td>\n",
       "      <td>0.006308</td>\n",
       "    </tr>\n",
       "  </tbody>\n",
       "</table>\n",
       "</div>"
      ],
      "text/plain": [
       "                            feature  coefficient\n",
       "35           flux_weight_offset_sig     0.370366\n",
       "20              planet_radius_earth     0.131406\n",
       "0        num_of_objects_around_star     0.093754\n",
       "13             max_multi_event_stat     0.074179\n",
       "44               angular_offset_sky     0.069527\n",
       "27      planet_star_distance_radius     0.050094\n",
       "26         planet_star_radius_ratio     0.028632\n",
       "29                      planet_temp     0.011607\n",
       "32                 star_metallicity     0.009010\n",
       "46                     star_density     0.008322\n",
       "30                        star_temp     0.007303\n",
       "38  centroid_right_ascension_offset     0.006887\n",
       "21             orbit_semimajor_axis     0.006865\n",
       "23                 transit_duration     0.006848\n",
       "12            max_single_event_stat     0.006308"
      ]
     },
     "execution_count": 17,
     "metadata": {},
     "output_type": "execute_result"
    }
   ],
   "source": [
    "best_binary_features.coefficient = best_binary_features.coefficient.abs()\n",
    "best_binary_features.nlargest(15, 'coefficient')"
   ]
  },
  {
   "cell_type": "code",
   "execution_count": 18,
   "metadata": {
    "scrolled": true
   },
   "outputs": [
    {
     "data": {
      "text/html": [
       "<div>\n",
       "<style scoped>\n",
       "    .dataframe tbody tr th:only-of-type {\n",
       "        vertical-align: middle;\n",
       "    }\n",
       "\n",
       "    .dataframe tbody tr th {\n",
       "        vertical-align: top;\n",
       "    }\n",
       "\n",
       "    .dataframe thead th {\n",
       "        text-align: right;\n",
       "    }\n",
       "</style>\n",
       "<table border=\"1\" class=\"dataframe\">\n",
       "  <thead>\n",
       "    <tr style=\"text-align: right;\">\n",
       "      <th></th>\n",
       "      <th>recall</th>\n",
       "      <th>precision</th>\n",
       "      <th>f1</th>\n",
       "      <th>accuracy</th>\n",
       "      <th>auc</th>\n",
       "    </tr>\n",
       "  </thead>\n",
       "  <tbody>\n",
       "    <tr>\n",
       "      <th>0</th>\n",
       "      <td>0.925773</td>\n",
       "      <td>0.920082</td>\n",
       "      <td>0.922919</td>\n",
       "      <td>0.856808</td>\n",
       "      <td>0.854234</td>\n",
       "    </tr>\n",
       "    <tr>\n",
       "      <th>1</th>\n",
       "      <td>0.732394</td>\n",
       "      <td>0.611765</td>\n",
       "      <td>0.666667</td>\n",
       "      <td>NaN</td>\n",
       "      <td>NaN</td>\n",
       "    </tr>\n",
       "    <tr>\n",
       "      <th>2</th>\n",
       "      <td>0.807882</td>\n",
       "      <td>0.906077</td>\n",
       "      <td>0.854167</td>\n",
       "      <td>NaN</td>\n",
       "      <td>NaN</td>\n",
       "    </tr>\n",
       "    <tr>\n",
       "      <th>3</th>\n",
       "      <td>0.760000</td>\n",
       "      <td>0.770270</td>\n",
       "      <td>0.765101</td>\n",
       "      <td>NaN</td>\n",
       "      <td>NaN</td>\n",
       "    </tr>\n",
       "    <tr>\n",
       "      <th>4</th>\n",
       "      <td>0.444444</td>\n",
       "      <td>0.333333</td>\n",
       "      <td>0.380952</td>\n",
       "      <td>NaN</td>\n",
       "      <td>NaN</td>\n",
       "    </tr>\n",
       "  </tbody>\n",
       "</table>\n",
       "</div>"
      ],
      "text/plain": [
       "     recall  precision        f1  accuracy       auc\n",
       "0  0.925773   0.920082  0.922919  0.856808  0.854234\n",
       "1  0.732394   0.611765  0.666667       NaN       NaN\n",
       "2  0.807882   0.906077  0.854167       NaN       NaN\n",
       "3  0.760000   0.770270  0.765101       NaN       NaN\n",
       "4  0.444444   0.333333  0.380952       NaN       NaN"
      ]
     },
     "execution_count": 18,
     "metadata": {},
     "output_type": "execute_result"
    }
   ],
   "source": [
    "# Inspecting baseline tree multi-class model\n",
    "with open('../data/models/multi/multi_base_tree.pickle', 'rb') as f:\n",
    "    base_multi_model = pickle.load(f)\n",
    "\n",
    "base_multi_class_report, base_multi_features = evaluate_model(X_test_multi, y_test_multi, base_multi_model)\n",
    "base_multi_class_report"
   ]
  },
  {
   "cell_type": "code",
   "execution_count": 19,
   "metadata": {},
   "outputs": [
    {
     "data": {
      "text/html": [
       "<div>\n",
       "<style scoped>\n",
       "    .dataframe tbody tr th:only-of-type {\n",
       "        vertical-align: middle;\n",
       "    }\n",
       "\n",
       "    .dataframe tbody tr th {\n",
       "        vertical-align: top;\n",
       "    }\n",
       "\n",
       "    .dataframe thead th {\n",
       "        text-align: right;\n",
       "    }\n",
       "</style>\n",
       "<table border=\"1\" class=\"dataframe\">\n",
       "  <thead>\n",
       "    <tr style=\"text-align: right;\">\n",
       "      <th></th>\n",
       "      <th>feature</th>\n",
       "      <th>coefficient</th>\n",
       "    </tr>\n",
       "  </thead>\n",
       "  <tbody>\n",
       "    <tr>\n",
       "      <th>13</th>\n",
       "      <td>max_multi_event_stat</td>\n",
       "      <td>0.247310</td>\n",
       "    </tr>\n",
       "    <tr>\n",
       "      <th>44</th>\n",
       "      <td>angular_offset_sky</td>\n",
       "      <td>0.177385</td>\n",
       "    </tr>\n",
       "    <tr>\n",
       "      <th>26</th>\n",
       "      <td>planet_star_radius_ratio</td>\n",
       "      <td>0.085125</td>\n",
       "    </tr>\n",
       "    <tr>\n",
       "      <th>20</th>\n",
       "      <td>planet_radius_earth</td>\n",
       "      <td>0.068747</td>\n",
       "    </tr>\n",
       "    <tr>\n",
       "      <th>35</th>\n",
       "      <td>flux_weight_offset_sig</td>\n",
       "      <td>0.053760</td>\n",
       "    </tr>\n",
       "    <tr>\n",
       "      <th>23</th>\n",
       "      <td>transit_duration</td>\n",
       "      <td>0.039313</td>\n",
       "    </tr>\n",
       "    <tr>\n",
       "      <th>27</th>\n",
       "      <td>planet_star_distance_radius</td>\n",
       "      <td>0.027260</td>\n",
       "    </tr>\n",
       "    <tr>\n",
       "      <th>24</th>\n",
       "      <td>transit_depth</td>\n",
       "      <td>0.021819</td>\n",
       "    </tr>\n",
       "    <tr>\n",
       "      <th>21</th>\n",
       "      <td>orbit_semimajor_axis</td>\n",
       "      <td>0.017938</td>\n",
       "    </tr>\n",
       "    <tr>\n",
       "      <th>46</th>\n",
       "      <td>star_density</td>\n",
       "      <td>0.017581</td>\n",
       "    </tr>\n",
       "    <tr>\n",
       "      <th>32</th>\n",
       "      <td>star_metallicity</td>\n",
       "      <td>0.015455</td>\n",
       "    </tr>\n",
       "    <tr>\n",
       "      <th>45</th>\n",
       "      <td>insolation_flux</td>\n",
       "      <td>0.015420</td>\n",
       "    </tr>\n",
       "    <tr>\n",
       "      <th>39</th>\n",
       "      <td>centroid_declination_offset</td>\n",
       "      <td>0.015231</td>\n",
       "    </tr>\n",
       "    <tr>\n",
       "      <th>37</th>\n",
       "      <td>centroid_declination</td>\n",
       "      <td>0.015088</td>\n",
       "    </tr>\n",
       "    <tr>\n",
       "      <th>41</th>\n",
       "      <td>planet_star_declination_offset</td>\n",
       "      <td>0.011846</td>\n",
       "    </tr>\n",
       "  </tbody>\n",
       "</table>\n",
       "</div>"
      ],
      "text/plain": [
       "                           feature  coefficient\n",
       "13            max_multi_event_stat     0.247310\n",
       "44              angular_offset_sky     0.177385\n",
       "26        planet_star_radius_ratio     0.085125\n",
       "20             planet_radius_earth     0.068747\n",
       "35          flux_weight_offset_sig     0.053760\n",
       "23                transit_duration     0.039313\n",
       "27     planet_star_distance_radius     0.027260\n",
       "24                   transit_depth     0.021819\n",
       "21            orbit_semimajor_axis     0.017938\n",
       "46                    star_density     0.017581\n",
       "32                star_metallicity     0.015455\n",
       "45                 insolation_flux     0.015420\n",
       "39     centroid_declination_offset     0.015231\n",
       "37            centroid_declination     0.015088\n",
       "41  planet_star_declination_offset     0.011846"
      ]
     },
     "execution_count": 19,
     "metadata": {},
     "output_type": "execute_result"
    }
   ],
   "source": [
    "base_multi_features.coefficient = base_multi_features.coefficient.abs()\n",
    "base_multi_features.nlargest(15, 'coefficient')"
   ]
  },
  {
   "cell_type": "code",
   "execution_count": 20,
   "metadata": {},
   "outputs": [
    {
     "data": {
      "text/html": [
       "<div>\n",
       "<style scoped>\n",
       "    .dataframe tbody tr th:only-of-type {\n",
       "        vertical-align: middle;\n",
       "    }\n",
       "\n",
       "    .dataframe tbody tr th {\n",
       "        vertical-align: top;\n",
       "    }\n",
       "\n",
       "    .dataframe thead th {\n",
       "        text-align: right;\n",
       "    }\n",
       "</style>\n",
       "<table border=\"1\" class=\"dataframe\">\n",
       "  <thead>\n",
       "    <tr style=\"text-align: right;\">\n",
       "      <th></th>\n",
       "      <th>recall</th>\n",
       "      <th>precision</th>\n",
       "      <th>f1</th>\n",
       "      <th>accuracy</th>\n",
       "      <th>auc</th>\n",
       "    </tr>\n",
       "  </thead>\n",
       "  <tbody>\n",
       "    <tr>\n",
       "      <th>0</th>\n",
       "      <td>0.975258</td>\n",
       "      <td>0.957490</td>\n",
       "      <td>0.966292</td>\n",
       "      <td>0.926056</td>\n",
       "      <td>0.982354</td>\n",
       "    </tr>\n",
       "    <tr>\n",
       "      <th>1</th>\n",
       "      <td>0.802817</td>\n",
       "      <td>0.850746</td>\n",
       "      <td>0.826087</td>\n",
       "      <td>NaN</td>\n",
       "      <td>NaN</td>\n",
       "    </tr>\n",
       "    <tr>\n",
       "      <th>2</th>\n",
       "      <td>0.911330</td>\n",
       "      <td>0.925000</td>\n",
       "      <td>0.918114</td>\n",
       "      <td>NaN</td>\n",
       "      <td>NaN</td>\n",
       "    </tr>\n",
       "    <tr>\n",
       "      <th>3</th>\n",
       "      <td>0.880000</td>\n",
       "      <td>0.846154</td>\n",
       "      <td>0.862745</td>\n",
       "      <td>NaN</td>\n",
       "      <td>NaN</td>\n",
       "    </tr>\n",
       "    <tr>\n",
       "      <th>4</th>\n",
       "      <td>0.444444</td>\n",
       "      <td>0.615385</td>\n",
       "      <td>0.516129</td>\n",
       "      <td>NaN</td>\n",
       "      <td>NaN</td>\n",
       "    </tr>\n",
       "  </tbody>\n",
       "</table>\n",
       "</div>"
      ],
      "text/plain": [
       "     recall  precision        f1  accuracy       auc\n",
       "0  0.975258   0.957490  0.966292  0.926056  0.982354\n",
       "1  0.802817   0.850746  0.826087       NaN       NaN\n",
       "2  0.911330   0.925000  0.918114       NaN       NaN\n",
       "3  0.880000   0.846154  0.862745       NaN       NaN\n",
       "4  0.444444   0.615385  0.516129       NaN       NaN"
      ]
     },
     "execution_count": 20,
     "metadata": {},
     "output_type": "execute_result"
    }
   ],
   "source": [
    "# Inspecting final xgboost (accuracy scoring) multi-class model\n",
    "with open('../data/models/multi/multi_xgboost.pickle', 'rb') as f:\n",
    "    best_multi_model = pickle.load(f)\n",
    "\n",
    "best_multi_class_report, best_multi_features = evaluate_model(X_test_multi, y_test_multi, best_multi_model)\n",
    "best_multi_class_report"
   ]
  },
  {
   "cell_type": "code",
   "execution_count": 21,
   "metadata": {},
   "outputs": [
    {
     "data": {
      "text/html": [
       "<div>\n",
       "<style scoped>\n",
       "    .dataframe tbody tr th:only-of-type {\n",
       "        vertical-align: middle;\n",
       "    }\n",
       "\n",
       "    .dataframe tbody tr th {\n",
       "        vertical-align: top;\n",
       "    }\n",
       "\n",
       "    .dataframe thead th {\n",
       "        text-align: right;\n",
       "    }\n",
       "</style>\n",
       "<table border=\"1\" class=\"dataframe\">\n",
       "  <thead>\n",
       "    <tr style=\"text-align: right;\">\n",
       "      <th></th>\n",
       "      <th>feature</th>\n",
       "      <th>coefficient</th>\n",
       "    </tr>\n",
       "  </thead>\n",
       "  <tbody>\n",
       "    <tr>\n",
       "      <th>0</th>\n",
       "      <td>num_of_objects_around_star</td>\n",
       "      <td>0.168226</td>\n",
       "    </tr>\n",
       "    <tr>\n",
       "      <th>44</th>\n",
       "      <td>angular_offset_sky</td>\n",
       "      <td>0.071962</td>\n",
       "    </tr>\n",
       "    <tr>\n",
       "      <th>21</th>\n",
       "      <td>orbit_semimajor_axis</td>\n",
       "      <td>0.061882</td>\n",
       "    </tr>\n",
       "    <tr>\n",
       "      <th>24</th>\n",
       "      <td>transit_depth</td>\n",
       "      <td>0.057739</td>\n",
       "    </tr>\n",
       "    <tr>\n",
       "      <th>13</th>\n",
       "      <td>max_multi_event_stat</td>\n",
       "      <td>0.045450</td>\n",
       "    </tr>\n",
       "    <tr>\n",
       "      <th>26</th>\n",
       "      <td>planet_star_radius_ratio</td>\n",
       "      <td>0.044158</td>\n",
       "    </tr>\n",
       "    <tr>\n",
       "      <th>35</th>\n",
       "      <td>flux_weight_offset_sig</td>\n",
       "      <td>0.043328</td>\n",
       "    </tr>\n",
       "    <tr>\n",
       "      <th>12</th>\n",
       "      <td>max_single_event_stat</td>\n",
       "      <td>0.038659</td>\n",
       "    </tr>\n",
       "    <tr>\n",
       "      <th>25</th>\n",
       "      <td>orbital_period</td>\n",
       "      <td>0.027999</td>\n",
       "    </tr>\n",
       "    <tr>\n",
       "      <th>10</th>\n",
       "      <td>kepler_band_mag</td>\n",
       "      <td>0.027329</td>\n",
       "    </tr>\n",
       "    <tr>\n",
       "      <th>11</th>\n",
       "      <td>num_of_transits</td>\n",
       "      <td>0.024654</td>\n",
       "    </tr>\n",
       "    <tr>\n",
       "      <th>27</th>\n",
       "      <td>planet_star_distance_radius</td>\n",
       "      <td>0.021341</td>\n",
       "    </tr>\n",
       "    <tr>\n",
       "      <th>20</th>\n",
       "      <td>planet_radius_earth</td>\n",
       "      <td>0.020178</td>\n",
       "    </tr>\n",
       "    <tr>\n",
       "      <th>23</th>\n",
       "      <td>transit_duration</td>\n",
       "      <td>0.019756</td>\n",
       "    </tr>\n",
       "    <tr>\n",
       "      <th>6</th>\n",
       "      <td>z_band_mag</td>\n",
       "      <td>0.019177</td>\n",
       "    </tr>\n",
       "  </tbody>\n",
       "</table>\n",
       "</div>"
      ],
      "text/plain": [
       "                        feature  coefficient\n",
       "0    num_of_objects_around_star     0.168226\n",
       "44           angular_offset_sky     0.071962\n",
       "21         orbit_semimajor_axis     0.061882\n",
       "24                transit_depth     0.057739\n",
       "13         max_multi_event_stat     0.045450\n",
       "26     planet_star_radius_ratio     0.044158\n",
       "35       flux_weight_offset_sig     0.043328\n",
       "12        max_single_event_stat     0.038659\n",
       "25               orbital_period     0.027999\n",
       "10              kepler_band_mag     0.027329\n",
       "11              num_of_transits     0.024654\n",
       "27  planet_star_distance_radius     0.021341\n",
       "20          planet_radius_earth     0.020178\n",
       "23             transit_duration     0.019756\n",
       "6                    z_band_mag     0.019177"
      ]
     },
     "execution_count": 21,
     "metadata": {},
     "output_type": "execute_result"
    }
   ],
   "source": [
    "best_multi_features.coefficient = best_multi_features.coefficient.abs()\n",
    "best_multi_features.nlargest(15, 'coefficient')"
   ]
  }
 ],
 "metadata": {
  "kernelspec": {
   "display_name": "Python 3",
   "language": "python",
   "name": "python3"
  },
  "language_info": {
   "codemirror_mode": {
    "name": "ipython",
    "version": 3
   },
   "file_extension": ".py",
   "mimetype": "text/x-python",
   "name": "python",
   "nbconvert_exporter": "python",
   "pygments_lexer": "ipython3",
   "version": "3.8.5"
  }
 },
 "nbformat": 4,
 "nbformat_minor": 4
}
