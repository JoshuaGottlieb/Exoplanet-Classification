{
 "cells": [
  {
   "cell_type": "code",
   "execution_count": 75,
   "metadata": {},
   "outputs": [],
   "source": [
    "import numpy as np\n",
    "import pandas as pd\n",
    "import matplotlib.pyplot as plt\n",
    "import seaborn as sns\n",
    "from sklearn.preprocessing import OneHotEncoder, StandardScaler\n",
    "from sklearn.compose import ColumnTransformer\n",
    "from sklearn.model_selection import KFold, cross_val_score, GridSearchCV\n",
    "from sklearn.linear_model import LogisticRegression\n",
    "from sklearn.tree import DecisionTreeClassifier\n",
    "from sklearn.neighbors import KNeighborsClassifier\n",
    "from sklearn.ensemble import RandomForestClassifier, AdaBoostClassifier, GradientBoostingClassifier\n",
    "from sklearn.ensemble import StackingClassifier, VotingClassifier \n",
    "from sklearn.pipeline import FeatureUnion, Pipeline\n",
    "from sklearn.metrics import accuracy_score, recall_score, precision_score, f1_score, confusion_matrix\n",
    "from sklearn.metrics import classification_report, ConfusionMatrixDisplay, roc_curve, roc_auc_score\n",
    "from sklearn.metrics import make_scorer\n",
    "from imblearn.over_sampling import SMOTE, RandomOverSampler\n",
    "from imblearn.under_sampling import RandomUnderSampler\n",
    "from imblearn.pipeline import Pipeline as IPipeline\n",
    "from xgboost import XGBClassifier\n",
    "import pickle"
   ]
  },
  {
   "cell_type": "code",
   "execution_count": 2,
   "metadata": {},
   "outputs": [],
   "source": [
    "train_multi = pd.read_parquet('../data/cleaned/train_multi.parquet')\n",
    "X_train_multi = train_multi.drop('classification', axis = 1)\n",
    "y_train_multi = train_multi.classification\n",
    "test_multi = pd.read_parquet('../data/cleaned/test_multi.parquet')\n",
    "X_test_multi = test_multi.drop('classification', axis = 1)\n",
    "y_test_multi = test_multi.classification"
   ]
  },
  {
   "cell_type": "code",
   "execution_count": 3,
   "metadata": {},
   "outputs": [],
   "source": [
    "train_binary = pd.read_parquet('../data/cleaned/train_binary.parquet')\n",
    "X_train_binary = train_binary.drop('disposition', axis = 1)\n",
    "y_train_binary = train_binary.disposition\n",
    "test_binary = pd.read_parquet('../data/cleaned/test_binary.parquet')\n",
    "X_test_binary = test_binary.drop('disposition', axis = 1)\n",
    "y_test_binary = test_binary.disposition"
   ]
  },
  {
   "cell_type": "code",
   "execution_count": 4,
   "metadata": {},
   "outputs": [
    {
     "data": {
      "text/plain": [
       "0    1942\n",
       "2     814\n",
       "3     299\n",
       "1     282\n",
       "4      71\n",
       "Name: classification, dtype: int64"
      ]
     },
     "execution_count": 4,
     "metadata": {},
     "output_type": "execute_result"
    }
   ],
   "source": [
    "y_train_multi.value_counts()"
   ]
  },
  {
   "cell_type": "code",
   "execution_count": 5,
   "metadata": {},
   "outputs": [
    {
     "data": {
      "text/plain": [
       "1    2350\n",
       "0    1942\n",
       "Name: disposition, dtype: int64"
      ]
     },
     "execution_count": 5,
     "metadata": {},
     "output_type": "execute_result"
    }
   ],
   "source": [
    "y_train_binary.value_counts()"
   ]
  },
  {
   "cell_type": "code",
   "execution_count": 6,
   "metadata": {},
   "outputs": [
    {
     "data": {
      "text/html": [
       "<div>\n",
       "<style scoped>\n",
       "    .dataframe tbody tr th:only-of-type {\n",
       "        vertical-align: middle;\n",
       "    }\n",
       "\n",
       "    .dataframe tbody tr th {\n",
       "        vertical-align: top;\n",
       "    }\n",
       "\n",
       "    .dataframe thead th {\n",
       "        text-align: right;\n",
       "    }\n",
       "</style>\n",
       "<table border=\"1\" class=\"dataframe\">\n",
       "  <thead>\n",
       "    <tr style=\"text-align: right;\">\n",
       "      <th></th>\n",
       "      <th>ml_fittype</th>\n",
       "      <th>num_of_objects_around_star</th>\n",
       "      <th>right_ascension</th>\n",
       "      <th>declination</th>\n",
       "      <th>g_band_mag</th>\n",
       "      <th>r_band_mag</th>\n",
       "      <th>i_band_mag</th>\n",
       "      <th>z_band_mag</th>\n",
       "      <th>j_band_mag</th>\n",
       "      <th>h_band_mag</th>\n",
       "      <th>...</th>\n",
       "      <th>star_density</th>\n",
       "      <th>abs_gr_diff</th>\n",
       "      <th>abs_gi_diff</th>\n",
       "      <th>abs_gz_diff</th>\n",
       "      <th>abs_ri_diff</th>\n",
       "      <th>abs_rz_diff</th>\n",
       "      <th>abs_iz_diff</th>\n",
       "      <th>abs_jh_diff</th>\n",
       "      <th>abs_jk_diff</th>\n",
       "      <th>abs_hk_diff</th>\n",
       "    </tr>\n",
       "  </thead>\n",
       "  <tbody>\n",
       "    <tr>\n",
       "      <th>3421</th>\n",
       "      <td>LS+MCMC</td>\n",
       "      <td>1</td>\n",
       "      <td>296.88577</td>\n",
       "      <td>40.228230</td>\n",
       "      <td>13.841</td>\n",
       "      <td>13.466</td>\n",
       "      <td>13.354</td>\n",
       "      <td>13.304</td>\n",
       "      <td>12.519</td>\n",
       "      <td>12.263</td>\n",
       "      <td>...</td>\n",
       "      <td>0.91814</td>\n",
       "      <td>0.375</td>\n",
       "      <td>0.487</td>\n",
       "      <td>0.537</td>\n",
       "      <td>0.112</td>\n",
       "      <td>0.162</td>\n",
       "      <td>0.050</td>\n",
       "      <td>0.256</td>\n",
       "      <td>0.311</td>\n",
       "      <td>0.055</td>\n",
       "    </tr>\n",
       "    <tr>\n",
       "      <th>1504</th>\n",
       "      <td>LS+MCMC</td>\n",
       "      <td>1</td>\n",
       "      <td>293.14447</td>\n",
       "      <td>46.666241</td>\n",
       "      <td>15.790</td>\n",
       "      <td>15.300</td>\n",
       "      <td>15.188</td>\n",
       "      <td>15.110</td>\n",
       "      <td>14.268</td>\n",
       "      <td>13.967</td>\n",
       "      <td>...</td>\n",
       "      <td>3.37561</td>\n",
       "      <td>0.490</td>\n",
       "      <td>0.602</td>\n",
       "      <td>0.680</td>\n",
       "      <td>0.112</td>\n",
       "      <td>0.190</td>\n",
       "      <td>0.078</td>\n",
       "      <td>0.301</td>\n",
       "      <td>0.365</td>\n",
       "      <td>0.064</td>\n",
       "    </tr>\n",
       "    <tr>\n",
       "      <th>1052</th>\n",
       "      <td>LS+MCMC</td>\n",
       "      <td>1</td>\n",
       "      <td>298.39490</td>\n",
       "      <td>40.628910</td>\n",
       "      <td>14.536</td>\n",
       "      <td>14.017</td>\n",
       "      <td>13.861</td>\n",
       "      <td>13.785</td>\n",
       "      <td>12.869</td>\n",
       "      <td>12.558</td>\n",
       "      <td>...</td>\n",
       "      <td>0.97896</td>\n",
       "      <td>0.519</td>\n",
       "      <td>0.675</td>\n",
       "      <td>0.751</td>\n",
       "      <td>0.156</td>\n",
       "      <td>0.232</td>\n",
       "      <td>0.076</td>\n",
       "      <td>0.311</td>\n",
       "      <td>0.333</td>\n",
       "      <td>0.022</td>\n",
       "    </tr>\n",
       "    <tr>\n",
       "      <th>8050</th>\n",
       "      <td>LS+MCMC</td>\n",
       "      <td>1</td>\n",
       "      <td>295.61349</td>\n",
       "      <td>46.190689</td>\n",
       "      <td>14.184</td>\n",
       "      <td>13.746</td>\n",
       "      <td>13.617</td>\n",
       "      <td>13.594</td>\n",
       "      <td>12.746</td>\n",
       "      <td>12.501</td>\n",
       "      <td>...</td>\n",
       "      <td>20.19752</td>\n",
       "      <td>0.438</td>\n",
       "      <td>0.567</td>\n",
       "      <td>0.590</td>\n",
       "      <td>0.129</td>\n",
       "      <td>0.152</td>\n",
       "      <td>0.023</td>\n",
       "      <td>0.245</td>\n",
       "      <td>0.342</td>\n",
       "      <td>0.097</td>\n",
       "    </tr>\n",
       "    <tr>\n",
       "      <th>2920</th>\n",
       "      <td>LS+MCMC</td>\n",
       "      <td>2</td>\n",
       "      <td>297.27798</td>\n",
       "      <td>48.320332</td>\n",
       "      <td>13.328</td>\n",
       "      <td>12.789</td>\n",
       "      <td>12.642</td>\n",
       "      <td>12.578</td>\n",
       "      <td>11.680</td>\n",
       "      <td>11.399</td>\n",
       "      <td>...</td>\n",
       "      <td>0.73328</td>\n",
       "      <td>0.539</td>\n",
       "      <td>0.686</td>\n",
       "      <td>0.750</td>\n",
       "      <td>0.147</td>\n",
       "      <td>0.211</td>\n",
       "      <td>0.064</td>\n",
       "      <td>0.281</td>\n",
       "      <td>0.360</td>\n",
       "      <td>0.079</td>\n",
       "    </tr>\n",
       "    <tr>\n",
       "      <th>...</th>\n",
       "      <td>...</td>\n",
       "      <td>...</td>\n",
       "      <td>...</td>\n",
       "      <td>...</td>\n",
       "      <td>...</td>\n",
       "      <td>...</td>\n",
       "      <td>...</td>\n",
       "      <td>...</td>\n",
       "      <td>...</td>\n",
       "      <td>...</td>\n",
       "      <td>...</td>\n",
       "      <td>...</td>\n",
       "      <td>...</td>\n",
       "      <td>...</td>\n",
       "      <td>...</td>\n",
       "      <td>...</td>\n",
       "      <td>...</td>\n",
       "      <td>...</td>\n",
       "      <td>...</td>\n",
       "      <td>...</td>\n",
       "      <td>...</td>\n",
       "    </tr>\n",
       "    <tr>\n",
       "      <th>2970</th>\n",
       "      <td>LS+MCMC</td>\n",
       "      <td>1</td>\n",
       "      <td>285.66165</td>\n",
       "      <td>37.964500</td>\n",
       "      <td>13.424</td>\n",
       "      <td>12.843</td>\n",
       "      <td>12.675</td>\n",
       "      <td>12.618</td>\n",
       "      <td>11.672</td>\n",
       "      <td>11.316</td>\n",
       "      <td>...</td>\n",
       "      <td>1.62021</td>\n",
       "      <td>0.581</td>\n",
       "      <td>0.749</td>\n",
       "      <td>0.806</td>\n",
       "      <td>0.168</td>\n",
       "      <td>0.225</td>\n",
       "      <td>0.057</td>\n",
       "      <td>0.356</td>\n",
       "      <td>0.419</td>\n",
       "      <td>0.063</td>\n",
       "    </tr>\n",
       "    <tr>\n",
       "      <th>9357</th>\n",
       "      <td>LS+MCMC</td>\n",
       "      <td>1</td>\n",
       "      <td>298.23053</td>\n",
       "      <td>48.794109</td>\n",
       "      <td>13.036</td>\n",
       "      <td>12.703</td>\n",
       "      <td>12.634</td>\n",
       "      <td>12.648</td>\n",
       "      <td>11.771</td>\n",
       "      <td>11.595</td>\n",
       "      <td>...</td>\n",
       "      <td>0.92108</td>\n",
       "      <td>0.333</td>\n",
       "      <td>0.402</td>\n",
       "      <td>0.388</td>\n",
       "      <td>0.069</td>\n",
       "      <td>0.055</td>\n",
       "      <td>0.014</td>\n",
       "      <td>0.176</td>\n",
       "      <td>0.234</td>\n",
       "      <td>0.058</td>\n",
       "    </tr>\n",
       "    <tr>\n",
       "      <th>9368</th>\n",
       "      <td>LS+MCMC</td>\n",
       "      <td>1</td>\n",
       "      <td>296.98615</td>\n",
       "      <td>40.675110</td>\n",
       "      <td>14.153</td>\n",
       "      <td>13.744</td>\n",
       "      <td>13.653</td>\n",
       "      <td>13.617</td>\n",
       "      <td>12.711</td>\n",
       "      <td>12.463</td>\n",
       "      <td>...</td>\n",
       "      <td>114.73195</td>\n",
       "      <td>0.409</td>\n",
       "      <td>0.500</td>\n",
       "      <td>0.536</td>\n",
       "      <td>0.091</td>\n",
       "      <td>0.127</td>\n",
       "      <td>0.036</td>\n",
       "      <td>0.248</td>\n",
       "      <td>0.301</td>\n",
       "      <td>0.053</td>\n",
       "    </tr>\n",
       "    <tr>\n",
       "      <th>2767</th>\n",
       "      <td>LS+MCMC</td>\n",
       "      <td>1</td>\n",
       "      <td>285.15692</td>\n",
       "      <td>47.873329</td>\n",
       "      <td>16.447</td>\n",
       "      <td>15.654</td>\n",
       "      <td>15.443</td>\n",
       "      <td>15.375</td>\n",
       "      <td>14.390</td>\n",
       "      <td>13.972</td>\n",
       "      <td>...</td>\n",
       "      <td>5.77265</td>\n",
       "      <td>0.793</td>\n",
       "      <td>1.004</td>\n",
       "      <td>1.072</td>\n",
       "      <td>0.211</td>\n",
       "      <td>0.279</td>\n",
       "      <td>0.068</td>\n",
       "      <td>0.418</td>\n",
       "      <td>0.439</td>\n",
       "      <td>0.021</td>\n",
       "    </tr>\n",
       "    <tr>\n",
       "      <th>1704</th>\n",
       "      <td>LS+MCMC</td>\n",
       "      <td>1</td>\n",
       "      <td>287.40244</td>\n",
       "      <td>39.190731</td>\n",
       "      <td>15.989</td>\n",
       "      <td>14.949</td>\n",
       "      <td>14.497</td>\n",
       "      <td>14.214</td>\n",
       "      <td>13.098</td>\n",
       "      <td>12.538</td>\n",
       "      <td>...</td>\n",
       "      <td>2.61057</td>\n",
       "      <td>1.040</td>\n",
       "      <td>1.492</td>\n",
       "      <td>1.775</td>\n",
       "      <td>0.452</td>\n",
       "      <td>0.735</td>\n",
       "      <td>0.283</td>\n",
       "      <td>0.560</td>\n",
       "      <td>0.760</td>\n",
       "      <td>0.200</td>\n",
       "    </tr>\n",
       "  </tbody>\n",
       "</table>\n",
       "<p>3408 rows × 58 columns</p>\n",
       "</div>"
      ],
      "text/plain": [
       "     ml_fittype  num_of_objects_around_star  right_ascension  declination  \\\n",
       "3421    LS+MCMC                           1        296.88577    40.228230   \n",
       "1504    LS+MCMC                           1        293.14447    46.666241   \n",
       "1052    LS+MCMC                           1        298.39490    40.628910   \n",
       "8050    LS+MCMC                           1        295.61349    46.190689   \n",
       "2920    LS+MCMC                           2        297.27798    48.320332   \n",
       "...         ...                         ...              ...          ...   \n",
       "2970    LS+MCMC                           1        285.66165    37.964500   \n",
       "9357    LS+MCMC                           1        298.23053    48.794109   \n",
       "9368    LS+MCMC                           1        296.98615    40.675110   \n",
       "2767    LS+MCMC                           1        285.15692    47.873329   \n",
       "1704    LS+MCMC                           1        287.40244    39.190731   \n",
       "\n",
       "      g_band_mag  r_band_mag  i_band_mag  z_band_mag  j_band_mag  h_band_mag  \\\n",
       "3421      13.841      13.466      13.354      13.304      12.519      12.263   \n",
       "1504      15.790      15.300      15.188      15.110      14.268      13.967   \n",
       "1052      14.536      14.017      13.861      13.785      12.869      12.558   \n",
       "8050      14.184      13.746      13.617      13.594      12.746      12.501   \n",
       "2920      13.328      12.789      12.642      12.578      11.680      11.399   \n",
       "...          ...         ...         ...         ...         ...         ...   \n",
       "2970      13.424      12.843      12.675      12.618      11.672      11.316   \n",
       "9357      13.036      12.703      12.634      12.648      11.771      11.595   \n",
       "9368      14.153      13.744      13.653      13.617      12.711      12.463   \n",
       "2767      16.447      15.654      15.443      15.375      14.390      13.972   \n",
       "1704      15.989      14.949      14.497      14.214      13.098      12.538   \n",
       "\n",
       "      ...  star_density  abs_gr_diff  abs_gi_diff  abs_gz_diff  abs_ri_diff  \\\n",
       "3421  ...       0.91814        0.375        0.487        0.537        0.112   \n",
       "1504  ...       3.37561        0.490        0.602        0.680        0.112   \n",
       "1052  ...       0.97896        0.519        0.675        0.751        0.156   \n",
       "8050  ...      20.19752        0.438        0.567        0.590        0.129   \n",
       "2920  ...       0.73328        0.539        0.686        0.750        0.147   \n",
       "...   ...           ...          ...          ...          ...          ...   \n",
       "2970  ...       1.62021        0.581        0.749        0.806        0.168   \n",
       "9357  ...       0.92108        0.333        0.402        0.388        0.069   \n",
       "9368  ...     114.73195        0.409        0.500        0.536        0.091   \n",
       "2767  ...       5.77265        0.793        1.004        1.072        0.211   \n",
       "1704  ...       2.61057        1.040        1.492        1.775        0.452   \n",
       "\n",
       "      abs_rz_diff  abs_iz_diff  abs_jh_diff  abs_jk_diff  abs_hk_diff  \n",
       "3421        0.162        0.050        0.256        0.311        0.055  \n",
       "1504        0.190        0.078        0.301        0.365        0.064  \n",
       "1052        0.232        0.076        0.311        0.333        0.022  \n",
       "8050        0.152        0.023        0.245        0.342        0.097  \n",
       "2920        0.211        0.064        0.281        0.360        0.079  \n",
       "...           ...          ...          ...          ...          ...  \n",
       "2970        0.225        0.057        0.356        0.419        0.063  \n",
       "9357        0.055        0.014        0.176        0.234        0.058  \n",
       "9368        0.127        0.036        0.248        0.301        0.053  \n",
       "2767        0.279        0.068        0.418        0.439        0.021  \n",
       "1704        0.735        0.283        0.560        0.760        0.200  \n",
       "\n",
       "[3408 rows x 58 columns]"
      ]
     },
     "execution_count": 6,
     "metadata": {},
     "output_type": "execute_result"
    }
   ],
   "source": [
    "X_train_multi"
   ]
  },
  {
   "cell_type": "code",
   "execution_count": 7,
   "metadata": {},
   "outputs": [
    {
     "data": {
      "text/html": [
       "<div>\n",
       "<style scoped>\n",
       "    .dataframe tbody tr th:only-of-type {\n",
       "        vertical-align: middle;\n",
       "    }\n",
       "\n",
       "    .dataframe tbody tr th {\n",
       "        vertical-align: top;\n",
       "    }\n",
       "\n",
       "    .dataframe thead th {\n",
       "        text-align: right;\n",
       "    }\n",
       "</style>\n",
       "<table border=\"1\" class=\"dataframe\">\n",
       "  <thead>\n",
       "    <tr style=\"text-align: right;\">\n",
       "      <th></th>\n",
       "      <th>0</th>\n",
       "      <th>1</th>\n",
       "      <th>2</th>\n",
       "      <th>3</th>\n",
       "      <th>4</th>\n",
       "      <th>5</th>\n",
       "      <th>6</th>\n",
       "      <th>7</th>\n",
       "      <th>8</th>\n",
       "      <th>9</th>\n",
       "      <th>...</th>\n",
       "      <th>49</th>\n",
       "      <th>50</th>\n",
       "      <th>51</th>\n",
       "      <th>52</th>\n",
       "      <th>53</th>\n",
       "      <th>54</th>\n",
       "      <th>55</th>\n",
       "      <th>56</th>\n",
       "      <th>57</th>\n",
       "      <th>58</th>\n",
       "    </tr>\n",
       "  </thead>\n",
       "  <tbody>\n",
       "    <tr>\n",
       "      <th>3421</th>\n",
       "      <td>0.0</td>\n",
       "      <td>1.0</td>\n",
       "      <td>1.0</td>\n",
       "      <td>296.88577</td>\n",
       "      <td>40.228230</td>\n",
       "      <td>13.841</td>\n",
       "      <td>13.466</td>\n",
       "      <td>13.354</td>\n",
       "      <td>13.304</td>\n",
       "      <td>12.519</td>\n",
       "      <td>...</td>\n",
       "      <td>0.91814</td>\n",
       "      <td>0.375</td>\n",
       "      <td>0.487</td>\n",
       "      <td>0.537</td>\n",
       "      <td>0.112</td>\n",
       "      <td>0.162</td>\n",
       "      <td>0.050</td>\n",
       "      <td>0.256</td>\n",
       "      <td>0.311</td>\n",
       "      <td>0.055</td>\n",
       "    </tr>\n",
       "    <tr>\n",
       "      <th>1504</th>\n",
       "      <td>0.0</td>\n",
       "      <td>1.0</td>\n",
       "      <td>1.0</td>\n",
       "      <td>293.14447</td>\n",
       "      <td>46.666241</td>\n",
       "      <td>15.790</td>\n",
       "      <td>15.300</td>\n",
       "      <td>15.188</td>\n",
       "      <td>15.110</td>\n",
       "      <td>14.268</td>\n",
       "      <td>...</td>\n",
       "      <td>3.37561</td>\n",
       "      <td>0.490</td>\n",
       "      <td>0.602</td>\n",
       "      <td>0.680</td>\n",
       "      <td>0.112</td>\n",
       "      <td>0.190</td>\n",
       "      <td>0.078</td>\n",
       "      <td>0.301</td>\n",
       "      <td>0.365</td>\n",
       "      <td>0.064</td>\n",
       "    </tr>\n",
       "    <tr>\n",
       "      <th>1052</th>\n",
       "      <td>0.0</td>\n",
       "      <td>1.0</td>\n",
       "      <td>1.0</td>\n",
       "      <td>298.39490</td>\n",
       "      <td>40.628910</td>\n",
       "      <td>14.536</td>\n",
       "      <td>14.017</td>\n",
       "      <td>13.861</td>\n",
       "      <td>13.785</td>\n",
       "      <td>12.869</td>\n",
       "      <td>...</td>\n",
       "      <td>0.97896</td>\n",
       "      <td>0.519</td>\n",
       "      <td>0.675</td>\n",
       "      <td>0.751</td>\n",
       "      <td>0.156</td>\n",
       "      <td>0.232</td>\n",
       "      <td>0.076</td>\n",
       "      <td>0.311</td>\n",
       "      <td>0.333</td>\n",
       "      <td>0.022</td>\n",
       "    </tr>\n",
       "    <tr>\n",
       "      <th>8050</th>\n",
       "      <td>0.0</td>\n",
       "      <td>1.0</td>\n",
       "      <td>1.0</td>\n",
       "      <td>295.61349</td>\n",
       "      <td>46.190689</td>\n",
       "      <td>14.184</td>\n",
       "      <td>13.746</td>\n",
       "      <td>13.617</td>\n",
       "      <td>13.594</td>\n",
       "      <td>12.746</td>\n",
       "      <td>...</td>\n",
       "      <td>20.19752</td>\n",
       "      <td>0.438</td>\n",
       "      <td>0.567</td>\n",
       "      <td>0.590</td>\n",
       "      <td>0.129</td>\n",
       "      <td>0.152</td>\n",
       "      <td>0.023</td>\n",
       "      <td>0.245</td>\n",
       "      <td>0.342</td>\n",
       "      <td>0.097</td>\n",
       "    </tr>\n",
       "    <tr>\n",
       "      <th>2920</th>\n",
       "      <td>0.0</td>\n",
       "      <td>1.0</td>\n",
       "      <td>2.0</td>\n",
       "      <td>297.27798</td>\n",
       "      <td>48.320332</td>\n",
       "      <td>13.328</td>\n",
       "      <td>12.789</td>\n",
       "      <td>12.642</td>\n",
       "      <td>12.578</td>\n",
       "      <td>11.680</td>\n",
       "      <td>...</td>\n",
       "      <td>0.73328</td>\n",
       "      <td>0.539</td>\n",
       "      <td>0.686</td>\n",
       "      <td>0.750</td>\n",
       "      <td>0.147</td>\n",
       "      <td>0.211</td>\n",
       "      <td>0.064</td>\n",
       "      <td>0.281</td>\n",
       "      <td>0.360</td>\n",
       "      <td>0.079</td>\n",
       "    </tr>\n",
       "    <tr>\n",
       "      <th>...</th>\n",
       "      <td>...</td>\n",
       "      <td>...</td>\n",
       "      <td>...</td>\n",
       "      <td>...</td>\n",
       "      <td>...</td>\n",
       "      <td>...</td>\n",
       "      <td>...</td>\n",
       "      <td>...</td>\n",
       "      <td>...</td>\n",
       "      <td>...</td>\n",
       "      <td>...</td>\n",
       "      <td>...</td>\n",
       "      <td>...</td>\n",
       "      <td>...</td>\n",
       "      <td>...</td>\n",
       "      <td>...</td>\n",
       "      <td>...</td>\n",
       "      <td>...</td>\n",
       "      <td>...</td>\n",
       "      <td>...</td>\n",
       "      <td>...</td>\n",
       "    </tr>\n",
       "    <tr>\n",
       "      <th>2970</th>\n",
       "      <td>0.0</td>\n",
       "      <td>1.0</td>\n",
       "      <td>1.0</td>\n",
       "      <td>285.66165</td>\n",
       "      <td>37.964500</td>\n",
       "      <td>13.424</td>\n",
       "      <td>12.843</td>\n",
       "      <td>12.675</td>\n",
       "      <td>12.618</td>\n",
       "      <td>11.672</td>\n",
       "      <td>...</td>\n",
       "      <td>1.62021</td>\n",
       "      <td>0.581</td>\n",
       "      <td>0.749</td>\n",
       "      <td>0.806</td>\n",
       "      <td>0.168</td>\n",
       "      <td>0.225</td>\n",
       "      <td>0.057</td>\n",
       "      <td>0.356</td>\n",
       "      <td>0.419</td>\n",
       "      <td>0.063</td>\n",
       "    </tr>\n",
       "    <tr>\n",
       "      <th>9357</th>\n",
       "      <td>0.0</td>\n",
       "      <td>1.0</td>\n",
       "      <td>1.0</td>\n",
       "      <td>298.23053</td>\n",
       "      <td>48.794109</td>\n",
       "      <td>13.036</td>\n",
       "      <td>12.703</td>\n",
       "      <td>12.634</td>\n",
       "      <td>12.648</td>\n",
       "      <td>11.771</td>\n",
       "      <td>...</td>\n",
       "      <td>0.92108</td>\n",
       "      <td>0.333</td>\n",
       "      <td>0.402</td>\n",
       "      <td>0.388</td>\n",
       "      <td>0.069</td>\n",
       "      <td>0.055</td>\n",
       "      <td>0.014</td>\n",
       "      <td>0.176</td>\n",
       "      <td>0.234</td>\n",
       "      <td>0.058</td>\n",
       "    </tr>\n",
       "    <tr>\n",
       "      <th>9368</th>\n",
       "      <td>0.0</td>\n",
       "      <td>1.0</td>\n",
       "      <td>1.0</td>\n",
       "      <td>296.98615</td>\n",
       "      <td>40.675110</td>\n",
       "      <td>14.153</td>\n",
       "      <td>13.744</td>\n",
       "      <td>13.653</td>\n",
       "      <td>13.617</td>\n",
       "      <td>12.711</td>\n",
       "      <td>...</td>\n",
       "      <td>114.73195</td>\n",
       "      <td>0.409</td>\n",
       "      <td>0.500</td>\n",
       "      <td>0.536</td>\n",
       "      <td>0.091</td>\n",
       "      <td>0.127</td>\n",
       "      <td>0.036</td>\n",
       "      <td>0.248</td>\n",
       "      <td>0.301</td>\n",
       "      <td>0.053</td>\n",
       "    </tr>\n",
       "    <tr>\n",
       "      <th>2767</th>\n",
       "      <td>0.0</td>\n",
       "      <td>1.0</td>\n",
       "      <td>1.0</td>\n",
       "      <td>285.15692</td>\n",
       "      <td>47.873329</td>\n",
       "      <td>16.447</td>\n",
       "      <td>15.654</td>\n",
       "      <td>15.443</td>\n",
       "      <td>15.375</td>\n",
       "      <td>14.390</td>\n",
       "      <td>...</td>\n",
       "      <td>5.77265</td>\n",
       "      <td>0.793</td>\n",
       "      <td>1.004</td>\n",
       "      <td>1.072</td>\n",
       "      <td>0.211</td>\n",
       "      <td>0.279</td>\n",
       "      <td>0.068</td>\n",
       "      <td>0.418</td>\n",
       "      <td>0.439</td>\n",
       "      <td>0.021</td>\n",
       "    </tr>\n",
       "    <tr>\n",
       "      <th>1704</th>\n",
       "      <td>0.0</td>\n",
       "      <td>1.0</td>\n",
       "      <td>1.0</td>\n",
       "      <td>287.40244</td>\n",
       "      <td>39.190731</td>\n",
       "      <td>15.989</td>\n",
       "      <td>14.949</td>\n",
       "      <td>14.497</td>\n",
       "      <td>14.214</td>\n",
       "      <td>13.098</td>\n",
       "      <td>...</td>\n",
       "      <td>2.61057</td>\n",
       "      <td>1.040</td>\n",
       "      <td>1.492</td>\n",
       "      <td>1.775</td>\n",
       "      <td>0.452</td>\n",
       "      <td>0.735</td>\n",
       "      <td>0.283</td>\n",
       "      <td>0.560</td>\n",
       "      <td>0.760</td>\n",
       "      <td>0.200</td>\n",
       "    </tr>\n",
       "  </tbody>\n",
       "</table>\n",
       "<p>3408 rows × 59 columns</p>\n",
       "</div>"
      ],
      "text/plain": [
       "       0    1    2          3          4       5       6       7       8   \\\n",
       "3421  0.0  1.0  1.0  296.88577  40.228230  13.841  13.466  13.354  13.304   \n",
       "1504  0.0  1.0  1.0  293.14447  46.666241  15.790  15.300  15.188  15.110   \n",
       "1052  0.0  1.0  1.0  298.39490  40.628910  14.536  14.017  13.861  13.785   \n",
       "8050  0.0  1.0  1.0  295.61349  46.190689  14.184  13.746  13.617  13.594   \n",
       "2920  0.0  1.0  2.0  297.27798  48.320332  13.328  12.789  12.642  12.578   \n",
       "...   ...  ...  ...        ...        ...     ...     ...     ...     ...   \n",
       "2970  0.0  1.0  1.0  285.66165  37.964500  13.424  12.843  12.675  12.618   \n",
       "9357  0.0  1.0  1.0  298.23053  48.794109  13.036  12.703  12.634  12.648   \n",
       "9368  0.0  1.0  1.0  296.98615  40.675110  14.153  13.744  13.653  13.617   \n",
       "2767  0.0  1.0  1.0  285.15692  47.873329  16.447  15.654  15.443  15.375   \n",
       "1704  0.0  1.0  1.0  287.40244  39.190731  15.989  14.949  14.497  14.214   \n",
       "\n",
       "          9   ...         49     50     51     52     53     54     55     56  \\\n",
       "3421  12.519  ...    0.91814  0.375  0.487  0.537  0.112  0.162  0.050  0.256   \n",
       "1504  14.268  ...    3.37561  0.490  0.602  0.680  0.112  0.190  0.078  0.301   \n",
       "1052  12.869  ...    0.97896  0.519  0.675  0.751  0.156  0.232  0.076  0.311   \n",
       "8050  12.746  ...   20.19752  0.438  0.567  0.590  0.129  0.152  0.023  0.245   \n",
       "2920  11.680  ...    0.73328  0.539  0.686  0.750  0.147  0.211  0.064  0.281   \n",
       "...      ...  ...        ...    ...    ...    ...    ...    ...    ...    ...   \n",
       "2970  11.672  ...    1.62021  0.581  0.749  0.806  0.168  0.225  0.057  0.356   \n",
       "9357  11.771  ...    0.92108  0.333  0.402  0.388  0.069  0.055  0.014  0.176   \n",
       "9368  12.711  ...  114.73195  0.409  0.500  0.536  0.091  0.127  0.036  0.248   \n",
       "2767  14.390  ...    5.77265  0.793  1.004  1.072  0.211  0.279  0.068  0.418   \n",
       "1704  13.098  ...    2.61057  1.040  1.492  1.775  0.452  0.735  0.283  0.560   \n",
       "\n",
       "         57     58  \n",
       "3421  0.311  0.055  \n",
       "1504  0.365  0.064  \n",
       "1052  0.333  0.022  \n",
       "8050  0.342  0.097  \n",
       "2920  0.360  0.079  \n",
       "...     ...    ...  \n",
       "2970  0.419  0.063  \n",
       "9357  0.234  0.058  \n",
       "9368  0.301  0.053  \n",
       "2767  0.439  0.021  \n",
       "1704  0.760  0.200  \n",
       "\n",
       "[3408 rows x 59 columns]"
      ]
     },
     "execution_count": 7,
     "metadata": {},
     "output_type": "execute_result"
    }
   ],
   "source": [
    "ohe = OneHotEncoder(sparse = False)\n",
    "transformer = ColumnTransformer([('ohe', ohe, ['ml_fittype'])], remainder = 'passthrough')\n",
    "X_train_multi_ohe = transformer.fit_transform(X_train_multi)\n",
    "pd.DataFrame(X_train_multi_ohe, index = X_train_multi.index)"
   ]
  },
  {
   "cell_type": "code",
   "execution_count": 8,
   "metadata": {},
   "outputs": [],
   "source": [
    "full_column_labels = ['ml_fittype_LS', 'ml_fittype_LS_MCMC'] + X_train_multi.columns.values.tolist()[1:]"
   ]
  },
  {
   "cell_type": "code",
   "execution_count": 95,
   "metadata": {},
   "outputs": [],
   "source": [
    "samplers = [(SMOTE(random_state = 42)),\n",
    "            (RandomOverSampler(random_state = 42)),\n",
    "            None]"
   ]
  },
  {
   "cell_type": "code",
   "execution_count": 50,
   "metadata": {},
   "outputs": [],
   "source": [
    "def run_model(X_train, X_test, y_train, y_test, estimator = None,\n",
    "              resampling = None, grid_search = False, grid_params = None, cv = None,\n",
    "              scoring = None, plot_confusion = True):\n",
    "    \n",
    "    numeric_col = X_train.select_dtypes('number').columns.values.tolist()\n",
    "    object_col = X_train.select_dtypes('object').columns.values.tolist()\n",
    "    steps_no_resampling = [('ssc', StandardScaler(), numeric_col), ('ohe', OneHotEncoder(), object_col)]\n",
    "    preprocess_no_resampling = ColumnTransformer(steps_no_resampling)\n",
    "    \n",
    "    steps = [('preprocess', preprocess_no_resampling), ('rsm', resampling), ('clf', estimator)]\n",
    "    pipe = IPipeline(steps = steps)\n",
    "    \n",
    "    if grid_search:\n",
    "        model = GridSearchCV(pipe, param_grid = grid_params, cv = cv, scoring = scoring)\n",
    "    else:\n",
    "        model = pipe\n",
    "    \n",
    "    model.fit(X_train, y_train)\n",
    "    \n",
    "    if plot_confusion:\n",
    "        ConfusionMatrixDisplay(confusion_matrix(y_test, model.predict(X_test))).plot();\n",
    "        \n",
    "    return model"
   ]
  },
  {
   "cell_type": "code",
   "execution_count": 96,
   "metadata": {},
   "outputs": [],
   "source": [
    "def class_k_recall(y, y_pred, k = 0):\n",
    "    pairs = list(zip(y, y_pred))\n",
    "    num_of_variables = len(list(set(y)))\n",
    "    tp = pairs.count((k, k))\n",
    "    fn = 0\n",
    "    \n",
    "    for i in range(num_of_variables):\n",
    "        if i == k:\n",
    "            continue\n",
    "        fn += pairs.count((k,i))\n",
    "    \n",
    "    return tp / (fn + tp)"
   ]
  },
  {
   "cell_type": "code",
   "execution_count": 97,
   "metadata": {},
   "outputs": [],
   "source": [
    "def class_k_precision(y, y_pred, k = 0):\n",
    "    pairs = list(zip(y, y_pred))\n",
    "    num_of_variables = len(list(set(y)))\n",
    "    tp = pairs.count((k, k))\n",
    "    fp = 0\n",
    "    \n",
    "    for i in range(num_of_variables):\n",
    "        if i == k:\n",
    "            continue\n",
    "        fp += pairs.count((i, k))\n",
    "        \n",
    "    return tp / (tp + fp)"
   ]
  },
  {
   "cell_type": "code",
   "execution_count": 98,
   "metadata": {},
   "outputs": [],
   "source": [
    "def class_k_f1(y, y_pred, k = 0):\n",
    "    recall = class_k_recall(y, y_pred, k)\n",
    "    precision = class_k_precision(y, y_pred, k)\n",
    "    \n",
    "    return 2 * recall * precision / (recall + precision)"
   ]
  },
  {
   "cell_type": "markdown",
   "metadata": {},
   "source": [
    "# Binary Class Models"
   ]
  },
  {
   "cell_type": "code",
   "execution_count": 99,
   "metadata": {},
   "outputs": [
    {
     "data": {
      "image/png": "[encoded data removed]",
      "text/plain": [
       "<Figure size 432x288 with 2 Axes>"
      ]
     },
     "metadata": {
      "needs_background": "light"
     },
     "output_type": "display_data"
    }
   ],
   "source": [
    "base_logistic_pipe = run_model(X_train_binary, X_test_binary, y_train_binary, y_test_binary,\n",
    "                               estimator = LogisticRegression(random_state = 42, max_iter = 1000),\n",
    "                               plot_confusion = True)"
   ]
  },
  {
   "cell_type": "code",
   "execution_count": 100,
   "metadata": {},
   "outputs": [],
   "source": [
    "with open('../data/models/binary_base_logistic.pickle', 'wb') as f:\n",
    "    pickle.dump(base_logistic_pipe, f)"
   ]
  },
  {
   "cell_type": "code",
   "execution_count": 102,
   "metadata": {},
   "outputs": [
    {
     "data": {
      "image/png": "[encoded data removed]",
      "text/plain": [
       "<Figure size 432x288 with 2 Axes>"
      ]
     },
     "metadata": {
      "needs_background": "light"
     },
     "output_type": "display_data"
    }
   ],
   "source": [
    "params = [\n",
    "    {\n",
    "        'clf': (LogisticRegression(random_state = 42, max_iter = 5000),),\n",
    "        'clf__C': [1e-4, 1e-3, 1e-2, 1, 1e2, 1e3, 1e4],\n",
    "    }\n",
    "]\n",
    "\n",
    "logistic = run_model(X_train_binary, X_test_binary, y_train_binary, y_test_binary,\n",
    "                     grid_search = True, grid_params = params, estimator = LogisticRegression(),\n",
    "                     plot_confusion = True)"
   ]
  },
  {
   "cell_type": "code",
   "execution_count": 103,
   "metadata": {},
   "outputs": [],
   "source": [
    "with open('../data/models/binary_logistic.pickle', 'wb') as f:\n",
    "    pickle.dump(logistic, f)"
   ]
  },
  {
   "cell_type": "code",
   "execution_count": 107,
   "metadata": {},
   "outputs": [
    {
     "data": {
      "image/png": "[encoded data removed]",
      "text/plain": [
       "<Figure size 432x288 with 2 Axes>"
      ]
     },
     "metadata": {
      "needs_background": "light"
     },
     "output_type": "display_data"
    }
   ],
   "source": [
    "params = [\n",
    "    {\n",
    "        'clf': (DecisionTreeClassifier(random_state = 42),),\n",
    "        'clf__max_depth': [5, 7, 9, 11, 13],\n",
    "        'clf__criterion': ['gini', 'entropy'],\n",
    "        'clf__max_features': ['sqrt', None]\n",
    "    }\n",
    "]\n",
    "\n",
    "tree = run_model(X_train_binary, X_test_binary, y_train_binary, y_test_binary,\n",
    "                 grid_search = True, grid_params = params, estimator = DecisionTreeClassifier(),\n",
    "                 plot_confusion = True)"
   ]
  },
  {
   "cell_type": "code",
   "execution_count": 108,
   "metadata": {},
   "outputs": [],
   "source": [
    "with open('../data/models/binary_tree.pickle', 'wb') as f:\n",
    "    pickle.dump(tree, f)"
   ]
  },
  {
   "cell_type": "code",
   "execution_count": 111,
   "metadata": {},
   "outputs": [
    {
     "data": {
      "image/png": "[encoded data removed]",
      "text/plain": [
       "<Figure size 432x288 with 2 Axes>"
      ]
     },
     "metadata": {
      "needs_background": "light"
     },
     "output_type": "display_data"
    }
   ],
   "source": [
    "params = [\n",
    "    {\n",
    "        'clf': (RandomForestClassifier(random_state = 42),),\n",
    "        'clf__n_estimators': [100, 300],\n",
    "        'clf__max_depth': [5, 7, 9]\n",
    "#         'rsm': samplers\n",
    "    }\n",
    "]\n",
    "\n",
    "random_forest = run_model(X_train_binary, X_test_binary, y_train_binary, y_test_binary,\n",
    "                          estimator = RandomForestClassifier(),\n",
    "                          grid_search = True, grid_params = params, scoring = None,\n",
    "                          cv = 5, plot_confusion = True)"
   ]
  },
  {
   "cell_type": "code",
   "execution_count": 112,
   "metadata": {},
   "outputs": [],
   "source": [
    "with open('../data/models/binary_random_forest.pickle', 'wb') as f:\n",
    "    pickle.dump(random_forest, f)"
   ]
  },
  {
   "cell_type": "code",
   "execution_count": 94,
   "metadata": {
    "scrolled": true
   },
   "outputs": [
    {
     "data": {
      "image/png": "[encoded data removed]",
      "text/plain": [
       "<Figure size 432x288 with 2 Axes>"
      ]
     },
     "metadata": {
      "needs_background": "light"
     },
     "output_type": "display_data"
    }
   ],
   "source": [
    "params = [\n",
    "    {\n",
    "        'clf': (KNeighborsClassifier(),),\n",
    "        'clf__n_neighbors': [3, 5, 7, 9, 11, 13],\n",
    "        'rsm': samplers\n",
    "    }\n",
    "]\n",
    "\n",
    "kneighbors = run_model(X_train_binary, X_test_binary, y_train_binary, y_test_binary,\n",
    "                       estimator = KNeighborsClassifier(),\n",
    "                       grid_search = True, grid_params = params,\n",
    "                       cv = 5, plot_confusion = True)"
   ]
  },
  {
   "cell_type": "code",
   "execution_count": 113,
   "metadata": {},
   "outputs": [],
   "source": [
    "with open('../data/models/binary_kneighbors.pickle', 'wb') as f:\n",
    "    pickle.dump(kneighbors, f)"
   ]
  },
  {
   "cell_type": "code",
   "execution_count": 72,
   "metadata": {},
   "outputs": [
    {
     "data": {
      "image/png": "[encoded data removed]",
      "text/plain": [
       "<Figure size 432x288 with 2 Axes>"
      ]
     },
     "metadata": {
      "needs_background": "light"
     },
     "output_type": "display_data"
    }
   ],
   "source": [
    "params = [\n",
    "    {\n",
    "        'clf': (AdaBoostClassifier(random_state = 42),),\n",
    "        'clf__base_estimator': [DecisionTreeClassifier(random_state = 42, max_depth = 1),\n",
    "                           DecisionTreeClassifier(random_state = 42, max_depth = 2)],\n",
    "        'clf__n_estimators': [100, 200, 300, 400, 500],\n",
    "        'clf__learning_rate': [0.1, 1],\n",
    "#         'rsm': samplers\n",
    "    }\n",
    "]\n",
    "\n",
    "adaboost = run_model(X_train_binary, X_test_binary, y_train_binary, y_test_binary,\n",
    "                     estimator = AdaBoostClassifier(),\n",
    "                     grid_search = True, grid_params = params,\n",
    "                     cv = 5, plot_confusion = True)"
   ]
  },
  {
   "cell_type": "code",
   "execution_count": 82,
   "metadata": {},
   "outputs": [],
   "source": [
    "with open('../data/models/binary_adaboost.pickle', 'wb') as f:\n",
    "    pickle.dump(adaboost, f)"
   ]
  },
  {
   "cell_type": "code",
   "execution_count": 81,
   "metadata": {},
   "outputs": [
    {
     "data": {
      "image/png": "[encoded data removed]",
      "text/plain": [
       "<Figure size 432x288 with 2 Axes>"
      ]
     },
     "metadata": {
      "needs_background": "light"
     },
     "output_type": "display_data"
    }
   ],
   "source": [
    "params = [\n",
    "    {\n",
    "        'clf': (GradientBoostingClassifier(random_state = 42),),\n",
    "        'clf__n_estimators': [100, 500, 1000],\n",
    "        'clf__max_features': [None, 'sqrt'],\n",
    "        'clf__max_depth': [2, 3]\n",
    "#         'rsm': samplers\n",
    "    }\n",
    "]\n",
    "\n",
    "gradientboost = run_model(X_train_binary, X_test_binary, y_train_binary, y_test_binary,\n",
    "                     estimator = GradientBoostingClassifier(),\n",
    "                     grid_search = True, grid_params = params,\n",
    "                     cv = 5, plot_confusion = True)"
   ]
  },
  {
   "cell_type": "code",
   "execution_count": 83,
   "metadata": {},
   "outputs": [],
   "source": [
    "with open('../data/models/binary_gradientboost.pickle', 'wb') as f:\n",
    "    pickle.dump(gradientboost, f)"
   ]
  },
  {
   "cell_type": "code",
   "execution_count": 91,
   "metadata": {},
   "outputs": [
    {
     "data": {
      "image/png": "[encoded data removed]",
      "text/plain": [
       "<Figure size 432x288 with 2 Axes>"
      ]
     },
     "metadata": {
      "needs_background": "light"
     },
     "output_type": "display_data"
    }
   ],
   "source": [
    "params = [\n",
    "    {\n",
    "        'clf': (XGBClassifier(random_state = 42),),\n",
    "        'clf__n_estimators': [100, 500, 1000],\n",
    "        'clf__max_depth': [6, 9, 12],\n",
    "#         'rsm': samplers\n",
    "    }\n",
    "]\n",
    "\n",
    "xgboost = run_model(X_train_binary, X_test_binary, y_train_binary, y_test_binary,\n",
    "                     estimator = XGBClassifier(), grid_search = True, grid_params = params,\n",
    "                     cv = 5, plot_confusion = True)"
   ]
  },
  {
   "cell_type": "code",
   "execution_count": 93,
   "metadata": {},
   "outputs": [],
   "source": [
    "with open('../data/models/binary_xgboost.pickle', 'wb') as f:\n",
    "    pickle.dump(xgboost, f)"
   ]
  },
  {
   "cell_type": "markdown",
   "metadata": {},
   "source": [
    "# Multiclass Models"
   ]
  },
  {
   "cell_type": "code",
   "execution_count": null,
   "metadata": {},
   "outputs": [],
   "source": []
  },
  {
   "cell_type": "code",
   "execution_count": null,
   "metadata": {},
   "outputs": [],
   "source": []
  },
  {
   "cell_type": "code",
   "execution_count": 15,
   "metadata": {
    "scrolled": true
   },
   "outputs": [
    {
     "name": "stdout",
     "output_type": "stream",
     "text": [
      "              precision    recall  f1-score   support\n",
      "\n",
      "           0       0.95      0.96      0.95       495\n",
      "           1       0.63      0.59      0.61        66\n",
      "           2       0.88      0.85      0.86       194\n",
      "           3       0.77      0.76      0.76        78\n",
      "           4       0.31      0.47      0.38        19\n",
      "\n",
      "    accuracy                           0.87       852\n",
      "   macro avg       0.71      0.72      0.71       852\n",
      "weighted avg       0.88      0.87      0.88       852\n",
      "\n"
     ]
    },
    {
     "data": {
      "image/png": "[encoded data removed]",
      "text/plain": [
       "<Figure size 432x288 with 2 Axes>"
      ]
     },
     "metadata": {
      "needs_background": "light"
     },
     "output_type": "display_data"
    }
   ],
   "source": [
    "base_decision_tree = run_model(X_train_multi, X_test_multi, y_train_multi, y_test_multi,\n",
    "                               ('logreg', DecisionTreeClassifier(random_state = 42)),\n",
    "                               plot_confusion = True)\n",
    "print(classification_report(y_test_multi, base_decision_tree.predict(X_test_multi)))"
   ]
  },
  {
   "cell_type": "code",
   "execution_count": null,
   "metadata": {},
   "outputs": [],
   "source": []
  },
  {
   "cell_type": "code",
   "execution_count": null,
   "metadata": {},
   "outputs": [],
   "source": []
  },
  {
   "cell_type": "code",
   "execution_count": 51,
   "metadata": {},
   "outputs": [
    {
     "name": "stdout",
     "output_type": "stream",
     "text": [
      "              precision    recall  f1-score   support\n",
      "\n",
      "           0       0.95      0.96      0.95       495\n",
      "           1       0.63      0.59      0.61        66\n",
      "           2       0.88      0.85      0.86       194\n",
      "           3       0.77      0.76      0.76        78\n",
      "           4       0.31      0.47      0.38        19\n",
      "\n",
      "    accuracy                           0.87       852\n",
      "   macro avg       0.71      0.72      0.71       852\n",
      "weighted avg       0.88      0.87      0.88       852\n",
      "\n"
     ]
    },
    {
     "data": {
      "image/png": "[encoded data removed]",
      "text/plain": [
       "<Figure size 432x288 with 2 Axes>"
      ]
     },
     "metadata": {
      "needs_background": "light"
     },
     "output_type": "display_data"
    }
   ],
   "source": [
    "base_decision_tree = Pipeline([('preprocess', preprocess_no_SMOTE),\n",
    "                               ('tree', DecisionTreeClassifier(random_state = 42))])\n",
    "\n",
    "base_decision_tree.fit(X_train_multi, y_train_multi)\n",
    "base_decision_tree.score(X_test_multi, y_test_multi)\n",
    "print(classification_report(y_test_multi, base_decision_tree.predict(X_test_multi)))\n",
    "ConfusionMatrixDisplay(confusion_matrix(y_test_multi, base_decision_tree.predict(X_test_multi))).plot();"
   ]
  },
  {
   "cell_type": "code",
   "execution_count": null,
   "metadata": {},
   "outputs": [],
   "source": []
  }
 ],
 "metadata": {
  "kernelspec": {
   "display_name": "Python 3",
   "language": "python",
   "name": "python3"
  },
  "language_info": {
   "codemirror_mode": {
    "name": "ipython",
    "version": 3
   },
   "file_extension": ".py",
   "mimetype": "text/x-python",
   "name": "python",
   "nbconvert_exporter": "python",
   "pygments_lexer": "ipython3",
   "version": "3.8.5"
  }
 },
 "nbformat": 4,
 "nbformat_minor": 4
}
