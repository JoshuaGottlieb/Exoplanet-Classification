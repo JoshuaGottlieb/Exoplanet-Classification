{
 "cells": [
  {
   "cell_type": "code",
   "execution_count": 2,
   "metadata": {},
   "outputs": [
    {
     "name": "stderr",
     "output_type": "stream",
     "text": [
      "/home/joshua/anaconda3/envs/learn-env/lib/python3.8/site-packages/xgboost/compat.py:93: FutureWarning: pandas.Int64Index is deprecated and will be removed from pandas in a future version. Use pandas.Index with the appropriate dtype instead.\n",
      "  from pandas import MultiIndex, Int64Index\n"
     ]
    }
   ],
   "source": [
    "import numpy as np\n",
    "import pandas as pd\n",
    "import matplotlib.pyplot as plt\n",
    "import seaborn as sns\n",
    "from sklearn.preprocessing import OneHotEncoder, StandardScaler\n",
    "from sklearn.compose import ColumnTransformer\n",
    "from sklearn.model_selection import KFold, cross_val_score, GridSearchCV\n",
    "from sklearn.linear_model import LogisticRegression\n",
    "from sklearn.tree import DecisionTreeClassifier\n",
    "from sklearn.neighbors import KNeighborsClassifier\n",
    "from sklearn.ensemble import RandomForestClassifier, AdaBoostClassifier, GradientBoostingClassifier\n",
    "from sklearn.ensemble import StackingClassifier, VotingClassifier \n",
    "from sklearn.pipeline import FeatureUnion, Pipeline\n",
    "from sklearn.metrics import accuracy_score, recall_score, precision_score, f1_score, confusion_matrix\n",
    "from sklearn.metrics import classification_report, ConfusionMatrixDisplay, roc_curve, roc_auc_score\n",
    "from imblearn.over_sampling import SMOTE, RandomOverSampler\n",
    "from imblearn.under_sampling import RandomUnderSampler\n",
    "from imblearn.pipeline import Pipeline as IPipeline\n",
    "from xgboost import XGBClassifier"
   ]
  },
  {
   "cell_type": "code",
   "execution_count": 3,
   "metadata": {},
   "outputs": [],
   "source": [
    "train_multi = pd.read_parquet('../data/cleaned/train_multi.parquet')\n",
    "X_train_multi = train_multi.drop('classification', axis = 1)\n",
    "y_train_multi = train_multi.classification\n",
    "test_multi = pd.read_parquet('../data/cleaned/test_multi.parquet')\n",
    "X_test_multi = test_multi.drop('classification', axis = 1)\n",
    "y_test_multi = test_multi.classification"
   ]
  },
  {
   "cell_type": "code",
   "execution_count": 4,
   "metadata": {},
   "outputs": [],
   "source": [
    "train_binary = pd.read_parquet('../data/cleaned/train_binary.parquet')\n",
    "X_train_binary = train_binary.drop('disposition', axis = 1)\n",
    "y_train_binary = train_binary.disposition\n",
    "test_binary = pd.read_parquet('../data/cleaned/test_binary.parquet')\n",
    "X_test_binary = test_binary.drop('disposition', axis = 1)\n",
    "y_test_binary = test_binary.disposition"
   ]
  },
  {
   "cell_type": "code",
   "execution_count": 5,
   "metadata": {},
   "outputs": [
    {
     "data": {
      "text/plain": [
       "0    1932\n",
       "2     823\n",
       "3     296\n",
       "1     287\n",
       "4      70\n",
       "Name: classification, dtype: int64"
      ]
     },
     "execution_count": 5,
     "metadata": {},
     "output_type": "execute_result"
    }
   ],
   "source": [
    "y_train_multi.value_counts()"
   ]
  },
  {
   "cell_type": "code",
   "execution_count": 6,
   "metadata": {},
   "outputs": [
    {
     "data": {
      "text/plain": [
       "1    2364\n",
       "0    1928\n",
       "Name: disposition, dtype: int64"
      ]
     },
     "execution_count": 6,
     "metadata": {},
     "output_type": "execute_result"
    }
   ],
   "source": [
    "y_train_binary.value_counts()"
   ]
  },
  {
   "cell_type": "code",
   "execution_count": 20,
   "metadata": {},
   "outputs": [],
   "source": [
    "def run_model(X_train, X_test, y_train, y_test, estimator,\n",
    "              resampling = None, grid_search = False, grid_params = None, cv = None, plot_confusion = True):\n",
    "    \n",
    "    numeric_col = X_train.select_dtypes('number').columns.values.tolist()\n",
    "    object_col = X_train.select_dtypes('object').columns.values.tolist()\n",
    "    steps_no_resampling = [('ssc', StandardScaler(), numeric_col), ('ohe', OneHotEncoder(), object_col)]\n",
    "    preprocess_no_resampling = ColumnTransformer(steps_no_resampling)\n",
    "    \n",
    "    if resampling is None:\n",
    "        steps = [('preprocess', preprocess_no_resampling), estimator]\n",
    "        if not grid_search:\n",
    "            model = Pipeline(steps = steps)\n",
    "        else:\n",
    "            pipe = Pipeline(steps = steps)\n",
    "            model = GridSearchCV(pipe, grid_params = grid_params, cv = cv)\n",
    "    else:\n",
    "        steps = [('preprocess', preprocess_no_resampling), resampling, estimator]\n",
    "        if not grid_search:\n",
    "            model = IPipeline(steps = steps)\n",
    "        else:\n",
    "            pipe = IPipeline(steps = steps)\n",
    "            model = GridSearchCV(pipe, grid_params = grid_params, cv = cv)\n",
    "    \n",
    "    model.fit(X_train, y_train)\n",
    "    \n",
    "    if plot_confusion:\n",
    "        ConfusionMatrixDisplay(confusion_matrix(y_test, model.predict(X_test))).plot();\n",
    "        \n",
    "    return model"
   ]
  },
  {
   "cell_type": "code",
   "execution_count": 21,
   "metadata": {},
   "outputs": [
    {
     "data": {
      "image/png": "[encoded data removed]",
      "text/plain": [
       "<Figure size 432x288 with 2 Axes>"
      ]
     },
     "metadata": {
      "needs_background": "light"
     },
     "output_type": "display_data"
    }
   ],
   "source": [
    "base_logistic_pipe = run_model(X_train_binary, X_test_binary, y_train_binary, y_test_binary,\n",
    "                               ('logreg', LogisticRegression(random_state = 42, max_iter = 1000)),\n",
    "                               plot_confusion = True)"
   ]
  },
  {
   "cell_type": "code",
   "execution_count": 15,
   "metadata": {},
   "outputs": [],
   "source": [
    "numeric_col = X_train_multi.select_dtypes('number').columns.values.tolist()\n",
    "object_col = X_train_multi.select_dtypes('object').columns.values.tolist()\n",
    "\n",
    "steps_no_SMOTE = [('ssc', StandardScaler(), numeric_col), ('ohe', OneHotEncoder(), object_col)]\n",
    "preprocess_no_SMOTE = ColumnTransformer(steps_no_SMOTE)\n",
    "steps_with_SMOTE = [('transformer', preprocess_no_SMOTE), ('smote', SMOTE(random_state = 42))]\n",
    "preprocess_with_SMOTE = IPipeline(steps = steps_with_SMOTE)"
   ]
  },
  {
   "cell_type": "code",
   "execution_count": 18,
   "metadata": {},
   "outputs": [
    {
     "name": "stdout",
     "output_type": "stream",
     "text": [
      "              precision    recall  f1-score   support\n",
      "\n",
      "           0       0.96      0.96      0.96       499\n",
      "           1       0.97      0.97      0.97       574\n",
      "\n",
      "    accuracy                           0.97      1073\n",
      "   macro avg       0.97      0.97      0.97      1073\n",
      "weighted avg       0.97      0.97      0.97      1073\n",
      "\n"
     ]
    },
    {
     "data": {
      "image/png": "[encoded data removed]",
      "text/plain": [
       "<Figure size 432x288 with 2 Axes>"
      ]
     },
     "metadata": {
      "needs_background": "light"
     },
     "output_type": "display_data"
    }
   ],
   "source": [
    "base_logistic_pipe = Pipeline([('preprocess', preprocess_no_SMOTE),\n",
    "                               ('logreg', LogisticRegression(random_state = 42, max_iter = 1000))])\n",
    "\n",
    "base_logistic_pipe.fit(X_train_binary, y_train_binary)\n",
    "base_logistic_pipe.score(X_test_binary, y_test_binary)\n",
    "print(classification_report(y_test_binary, base_logistic_pipe.predict(X_test_binary)))\n",
    "ConfusionMatrixDisplay(confusion_matrix(y_test_binary, base_logistic_pipe.predict(X_test_binary))).plot();"
   ]
  },
  {
   "cell_type": "code",
   "execution_count": 57,
   "metadata": {},
   "outputs": [],
   "source": [
    "X_train_bin_no_objnum = X_train_binary.drop('num_of_objects_around_star', axis = 1)\n",
    "X_test_bin_no_objnum = X_test_binary.drop('num_of_objects_around_star', axis = 1)"
   ]
  },
  {
   "cell_type": "code",
   "execution_count": 62,
   "metadata": {},
   "outputs": [],
   "source": [
    "numeric_col_test = X_train_bin_no_objnum.select_dtypes('number').columns.values.tolist()\n",
    "object_col_test = X_train_bin_no_objnum.select_dtypes('object').columns.values.tolist()\n",
    "\n",
    "steps_no_SMOTE_test = [('ssc', StandardScaler(), numeric_col_test), ('ohe', OneHotEncoder(), object_col_test)]\n",
    "preprocess_no_SMOTE_test= ColumnTransformer(steps_no_SMOTE_test)"
   ]
  },
  {
   "cell_type": "code",
   "execution_count": 89,
   "metadata": {},
   "outputs": [
    {
     "name": "stdout",
     "output_type": "stream",
     "text": [
      "              precision    recall  f1-score   support\n",
      "\n",
      "           0       0.96      0.97      0.96       499\n",
      "           1       0.97      0.96      0.97       574\n",
      "\n",
      "    accuracy                           0.96      1073\n",
      "   macro avg       0.96      0.96      0.96      1073\n",
      "weighted avg       0.96      0.96      0.96      1073\n",
      "\n",
      "Pipeline(steps=[('preprocess',\n",
      "                 ColumnTransformer(transformers=[('ssc', StandardScaler(),\n",
      "                                                  ['right_ascension',\n",
      "                                                   'declination', 'g_band_mag',\n",
      "                                                   'r_band_mag', 'i_band_mag',\n",
      "                                                   'z_band_mag', 'j_band_mag',\n",
      "                                                   'h_band_mag', 'k_band_mag',\n",
      "                                                   'kepler_band_mag',\n",
      "                                                   'num_of_transits',\n",
      "                                                   'max_single_event_stat',\n",
      "                                                   'max_multi_event_stat',\n",
      "                                                   'odd_even_depth_stat',\n",
      "                                                   'limb_dark_co4',\n",
      "                                                   'limb_dark_co3',\n",
      "                                                   'li...,\n",
      "                                                   'limb_dark_co1',\n",
      "                                                   'transit_signal_to_noise',\n",
      "                                                   'transit_epoch',\n",
      "                                                   'planet_radius_earth',\n",
      "                                                   'orbit_semimajor_axis',\n",
      "                                                   'impact', 'transit_duration',\n",
      "                                                   'transit_depth',\n",
      "                                                   'orbital_period',\n",
      "                                                   'planet_star_radius_ratio',\n",
      "                                                   'planet_star_distance_radius',\n",
      "                                                   'inclination', 'planet_temp', ...]),\n",
      "                                                 ('ohe', OneHotEncoder(),\n",
      "                                                  ['ml_fittype'])])),\n",
      "                ('logreg', LogisticRegression(C=1, random_state=42))]) 0.9443161805210698\n"
     ]
    },
    {
     "data": {
      "image/png": "[encoded data removed]",
      "text/plain": [
       "<Figure size 432x288 with 2 Axes>"
      ]
     },
     "metadata": {
      "needs_background": "light"
     },
     "output_type": "display_data"
    }
   ],
   "source": [
    "base_logistic_no_objnum_pipe = Pipeline([('preprocess', preprocess_no_SMOTE_test),\n",
    "                               ('logreg', LogisticRegression(random_state = 42))])\n",
    "\n",
    "grid_search_test = GridSearchCV(base_logistic_no_objnum_pipe,\n",
    "                               param_grid = {'logreg__C': [0.001, 0.01, 1, 100, 1000, 10_000, 100_000]}, cv = 5)\n",
    "\n",
    "grid_search_test.fit(X_train_bin_no_objnum, y_train_binary)\n",
    "print(classification_report(y_test_binary, grid_search_test.predict(X_test_bin_no_objnum)))\n",
    "ConfusionMatrixDisplay(confusion_matrix(y_test_binary, grid_search_test.predict(X_test_bin_no_objnum))).plot();\n",
    "print(grid_search_test.best_estimator_, grid_search_test.best_score_)"
   ]
  },
  {
   "cell_type": "code",
   "execution_count": 50,
   "metadata": {},
   "outputs": [
    {
     "name": "stdout",
     "output_type": "stream",
     "text": [
      "              precision    recall  f1-score   support\n",
      "\n",
      "           0       0.96      0.97      0.96       499\n",
      "           1       0.97      0.96      0.97       574\n",
      "\n",
      "    accuracy                           0.97      1073\n",
      "   macro avg       0.97      0.97      0.97      1073\n",
      "weighted avg       0.97      0.97      0.97      1073\n",
      "\n"
     ]
    },
    {
     "data": {
      "image/png": "[encoded data removed]",
      "text/plain": [
       "<Figure size 432x288 with 2 Axes>"
      ]
     },
     "metadata": {
      "needs_background": "light"
     },
     "output_type": "display_data"
    }
   ],
   "source": [
    "base_logistic_pipe_SMOTE = IPipeline([('preprocess', preprocess_no_SMOTE),\n",
    "                                      ('smote', SMOTE(random_state = 42)),\n",
    "                                      ('logreg', LogisticRegression(random_state = 42))])\n",
    "# IPipeline([('preprocess', preprocess_with_SMOTE),\n",
    "#                                ('logreg', LogisticRegression(random_state = 42))])\n",
    "\n",
    "base_logistic_pipe_SMOTE.fit(X_train_binary, y_train_binary)\n",
    "base_logistic_pipe_SMOTE.score(X_test_binary, y_test_binary)\n",
    "print(classification_report(y_test_binary, base_logistic_pipe_SMOTE.predict(X_test_binary)))\n",
    "ConfusionMatrixDisplay(confusion_matrix(y_test_binary, base_logistic_pipe_SMOTE.predict(X_test_binary))).plot();"
   ]
  },
  {
   "cell_type": "code",
   "execution_count": 51,
   "metadata": {},
   "outputs": [
    {
     "name": "stdout",
     "output_type": "stream",
     "text": [
      "              precision    recall  f1-score   support\n",
      "\n",
      "           0       0.95      0.96      0.95       495\n",
      "           1       0.63      0.59      0.61        66\n",
      "           2       0.88      0.85      0.86       194\n",
      "           3       0.77      0.76      0.76        78\n",
      "           4       0.31      0.47      0.38        19\n",
      "\n",
      "    accuracy                           0.87       852\n",
      "   macro avg       0.71      0.72      0.71       852\n",
      "weighted avg       0.88      0.87      0.88       852\n",
      "\n"
     ]
    },
    {
     "data": {
      "image/png": "[encoded data removed]",
      "text/plain": [
       "<Figure size 432x288 with 2 Axes>"
      ]
     },
     "metadata": {
      "needs_background": "light"
     },
     "output_type": "display_data"
    }
   ],
   "source": [
    "base_decision_tree = Pipeline([('preprocess', preprocess_no_SMOTE),\n",
    "                               ('tree', DecisionTreeClassifier(random_state = 42))])\n",
    "\n",
    "base_decision_tree.fit(X_train_multi, y_train_multi)\n",
    "base_decision_tree.score(X_test_multi, y_test_multi)\n",
    "print(classification_report(y_test_multi, base_decision_tree.predict(X_test_multi)))\n",
    "ConfusionMatrixDisplay(confusion_matrix(y_test_multi, base_decision_tree.predict(X_test_multi))).plot();"
   ]
  },
  {
   "cell_type": "code",
   "execution_count": 52,
   "metadata": {
    "scrolled": true
   },
   "outputs": [
    {
     "name": "stdout",
     "output_type": "stream",
     "text": [
      "              precision    recall  f1-score   support\n",
      "\n",
      "           0       0.96      0.88      0.92       495\n",
      "           1       0.52      0.73      0.60        66\n",
      "           2       0.85      0.76      0.80       194\n",
      "           3       0.67      0.76      0.71        78\n",
      "           4       0.17      0.37      0.24        19\n",
      "\n",
      "    accuracy                           0.82       852\n",
      "   macro avg       0.63      0.70      0.65       852\n",
      "weighted avg       0.85      0.82      0.83       852\n",
      "\n"
     ]
    },
    {
     "data": {
      "image/png": "[encoded data removed]",
      "text/plain": [
       "<Figure size 432x288 with 2 Axes>"
      ]
     },
     "metadata": {
      "needs_background": "light"
     },
     "output_type": "display_data"
    }
   ],
   "source": [
    "base_decision_tree_SMOTE = IPipeline([('preprocess', preprocess_no_SMOTE),\n",
    "                                      ('smote', SMOTE(random_state = 42)),\n",
    "                                      ('tree', DecisionTreeClassifier(random_state = 42))])\n",
    "base_decision_tree_SMOTE.fit(X_train_multi, y_train_multi)\n",
    "base_decision_tree_SMOTE.score(X_test_multi, y_test_multi)\n",
    "print(classification_report(y_test_multi, base_decision_tree_SMOTE.predict(X_test_multi)))\n",
    "ConfusionMatrixDisplay(confusion_matrix(y_test_multi, base_decision_tree_SMOTE.predict(X_test_multi))).plot();"
   ]
  },
  {
   "cell_type": "code",
   "execution_count": 91,
   "metadata": {},
   "outputs": [
    {
     "name": "stdout",
     "output_type": "stream",
     "text": [
      "              precision    recall  f1-score   support\n",
      "\n",
      "           0       0.95      0.95      0.95       495\n",
      "           1       0.55      0.59      0.57        66\n",
      "           2       0.86      0.79      0.82       194\n",
      "           3       0.75      0.81      0.78        78\n",
      "           4       0.27      0.32      0.29        19\n",
      "\n",
      "    accuracy                           0.86       852\n",
      "   macro avg       0.68      0.69      0.68       852\n",
      "weighted avg       0.86      0.86      0.86       852\n",
      "\n"
     ]
    },
    {
     "data": {
      "image/png": "[encoded data removed]",
      "text/plain": [
       "<Figure size 432x288 with 2 Axes>"
      ]
     },
     "metadata": {
      "needs_background": "light"
     },
     "output_type": "display_data"
    }
   ],
   "source": [
    "base_decision_tree_RandomOverSampler = IPipeline([('preprocess', preprocess_no_SMOTE),\n",
    "                                      ('ros', RandomOverSampler(random_state = 42)),\n",
    "                                      ('tree', DecisionTreeClassifier(random_state = 42))])\n",
    "base_decision_tree_RandomOverSampler.fit(X_train_multi, y_train_multi)\n",
    "base_decision_tree_RandomOverSampler.score(X_test_multi, y_test_multi)\n",
    "print(classification_report(y_test_multi, base_decision_tree_RandomOverSampler.predict(X_test_multi)))\n",
    "ConfusionMatrixDisplay(confusion_matrix(y_test_multi, base_decision_tree_RandomOverSampler.predict(X_test_multi))).plot();"
   ]
  },
  {
   "cell_type": "code",
   "execution_count": null,
   "metadata": {},
   "outputs": [],
   "source": []
  }
 ],
 "metadata": {
  "kernelspec": {
   "display_name": "Python 3",
   "language": "python",
   "name": "python3"
  },
  "language_info": {
   "codemirror_mode": {
    "name": "ipython",
    "version": 3
   },
   "file_extension": ".py",
   "mimetype": "text/x-python",
   "name": "python",
   "nbconvert_exporter": "python",
   "pygments_lexer": "ipython3",
   "version": "3.8.5"
  }
 },
 "nbformat": 4,
 "nbformat_minor": 4
}
