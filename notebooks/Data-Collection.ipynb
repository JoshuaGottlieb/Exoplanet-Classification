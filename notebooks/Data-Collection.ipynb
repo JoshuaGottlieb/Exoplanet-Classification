{
 "cells": [
  {
   "cell_type": "code",
   "execution_count": 90,
   "metadata": {},
   "outputs": [],
   "source": [
    "import pandas as pd\n",
    "import pyvo as vo\n",
    "\n",
    "service = vo.dal.TAPService('https://exoplanetarchive.ipac.caltech.edu/TAP')\n"
   ]
  },
  {
   "cell_type": "code",
   "execution_count": 91,
   "metadata": {},
   "outputs": [],
   "source": [
    "# # Planetary systems data - column information: https://exoplanetarchive.ipac.caltech.edu/docs/API_PS_columns.html\n",
    "# col_to_keep = ['pl_name', 'pl_letter', 'hostname', 'ra', 'dec', 'glon', 'glat', 'pl_orbper',\n",
    "#                'pl_orbsmax', 'pl_orbeccen', 'pl_eqt', 'pl_occdep', 'pl_insol', 'pl_dens',\n",
    "#                'pl_trandep', 'pl_tranmid', 'sy_pmdec', 'sy_plx', 'sy_dist', 'sy_bmag', 'sy_vmag',\n",
    "#                'sy_jmag', 'sy_hmag', 'sy_kmag', 'sy_umag', 'sy_rmag', 'sy_imag', 'sy_zmag',\n",
    "#                'sy_w1mag', 'sy_w2mag', 'sy_w3mag', 'sy_w4mag', 'sy_gmag', 'sy_gaiamag',\n",
    "#                'sy_tmag', 'pl_controv_flag', 'st_metratio', 'st_spectype', 'sy_kepmag',\n",
    "#                'st_rotp', 'cb_flag', 'pl_trandur', 'pl_rvamp', 'pl_radj', 'pl_rade', 'pl_ratror',\n",
    "#                'pl_ratdor', 'sy_icmag', 'dkin_flag', 'pl_imppar', 'pl_bmassj', 'pl_bmasse', 'pl_bmassprov',\n",
    "#                'st_teff', 'st_met', 'st_radv', 'st_vsin', 'st_lum', 'st_logg', 'st_age', 'st_mass',\n",
    "#                'st_dens', 'st_rad', 'ttv_flag', 'ptv_flag', 'tran_flag', 'rv_flag', 'ast_flag', 'obm_flag',\n",
    "#                'micro_flag', 'etv_flag', 'ima_flag', 'pul_flag', 'sy_snum', 'sy_pnum', 'sy_mnum', 'sy_pm',\n",
    "#                'sy_pmra']\n",
    "\n",
    "# q = 'SELECT {} FROM pscomppars'.format(','.join(col_to_keep))\n",
    "# resultset = service.search(q)\n",
    "# data = [[row.get(field) for field in resultset.fieldnames] for row in resultset]\n",
    "# df = pd.DataFrame(data, columns = resultset.fieldnames)\n",
    "# df.to_csv('planetary_systems.csv')"
   ]
  },
  {
   "cell_type": "code",
   "execution_count": null,
   "metadata": {},
   "outputs": [],
   "source": []
  }
 ],
 "metadata": {
  "kernelspec": {
   "display_name": "Python 3",
   "language": "python",
   "name": "python3"
  },
  "language_info": {
   "codemirror_mode": {
    "name": "ipython",
    "version": 3
   },
   "file_extension": ".py",
   "mimetype": "text/x-python",
   "name": "python",
   "nbconvert_exporter": "python",
   "pygments_lexer": "ipython3",
   "version": "3.8.5"
  }
 },
 "nbformat": 4,
 "nbformat_minor": 4
}
