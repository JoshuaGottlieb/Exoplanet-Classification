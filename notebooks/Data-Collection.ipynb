{
 "cells": [
  {
   "cell_type": "code",
   "execution_count": 1,
   "metadata": {},
   "outputs": [],
   "source": [
    "import pandas as pd\n",
    "import pyvo as vo\n",
    "import requests\n",
    "\n",
    "api_url = 'https://exoplanetarchive.ipac.caltech.edu/cgi-bin/nstedAPI/nph-nstedAPI?'\n",
    "tap_service = vo.dal.TAPService('https://exoplanetarchive.ipac.caltech.edu/TAP')\n"
   ]
  },
  {
   "cell_type": "code",
   "execution_count": 2,
   "metadata": {},
   "outputs": [],
   "source": [
    "# # Planetary systems data - column information: https://exoplanetarchive.ipac.caltech.edu/docs/API_PS_columns.html\n",
    "# col_to_pull = ['pl_name', 'pl_letter', 'hostname', 'ra', 'dec', 'glon', 'glat', 'pl_orbper',\n",
    "#                'pl_orbsmax', 'pl_orbeccen', 'pl_eqt', 'pl_occdep', 'pl_insol', 'pl_dens',\n",
    "#                'pl_trandep', 'pl_tranmid', 'sy_pmdec', 'sy_plx', 'sy_dist', 'sy_bmag', 'sy_vmag',\n",
    "#                'sy_jmag', 'sy_hmag', 'sy_kmag', 'sy_umag', 'sy_rmag', 'sy_imag', 'sy_zmag',\n",
    "#                'sy_w1mag', 'sy_w2mag', 'sy_w3mag', 'sy_w4mag', 'sy_gmag', 'sy_gaiamag',\n",
    "#                'sy_tmag', 'pl_controv_flag', 'st_metratio', 'st_spectype', 'sy_kepmag',\n",
    "#                'st_rotp', 'cb_flag', 'pl_trandur', 'pl_rvamp', 'pl_radj', 'pl_rade', 'pl_ratror',\n",
    "#                'pl_ratdor', 'sy_icmag', 'dkin_flag', 'pl_imppar', 'pl_bmassj', 'pl_bmasse', 'pl_bmassprov',\n",
    "#                'st_teff', 'st_met', 'st_radv', 'st_vsin', 'st_lum', 'st_logg', 'st_age', 'st_mass',\n",
    "#                'st_dens', 'st_rad', 'ttv_flag', 'ptv_flag', 'tran_flag', 'rv_flag', 'ast_flag', 'obm_flag',\n",
    "#                'micro_flag', 'etv_flag', 'ima_flag', 'pul_flag', 'sy_snum', 'sy_pnum', 'sy_mnum', 'sy_pm',\n",
    "#                'sy_pmra']\n",
    "\n",
    "# q = 'SELECT {} FROM pscomppars'.format(','.join(col_to_pull))\n",
    "# resultset = tap_service.search(q)\n",
    "# data = [[row.get(field) for field in resultset.fieldnames] for row in resultset]\n",
    "# df = pd.DataFrame(data, columns = resultset.fieldnames)\n",
    "# df.to_csv('planetary_systems.csv')"
   ]
  },
  {
   "cell_type": "code",
   "execution_count": 3,
   "metadata": {},
   "outputs": [],
   "source": [
    "# # KOI Candidate Data - column info: https://exoplanetarchive.ipac.caltech.edu/docs/API_kepcandidate_columns.html\n",
    "# col_to_pull = ['kepoi_name', 'kepler_name', 'koi_disposition', 'koi_comment', 'koi_fittype',\n",
    "#                'kepid','koi_count', 'koi_fpflag_nt', 'koi_fpflag_ss', 'koi_fpflag_co', 'koi_fpflag_ec',\n",
    "#                'ra', 'dec', 'koi_gmag', 'koi_rmag', 'koi_imag', 'koi_zmag', 'koi_jmag', 'koi_hmag',\n",
    "#                'koi_kmag', 'koi_kepmag', 'koi_num_transits', 'koi_max_sngle_ev', 'koi_max_mult_ev',\n",
    "#                'koi_bin_oedp_sig', 'koi_ldm_coeff4', 'koi_ldm_coeff3', 'koi_ldm_coeff2', 'koi_ldm_coeff1',\n",
    "#                'koi_model_snr', 'koi_time0bk', 'koi_prad', 'koi_sma', 'koi_impact', 'koi_duration',\n",
    "#                'koi_depth', 'koi_period', 'koi_ror', 'koi_dor', 'koi_incl', 'koi_teq', 'koi_steff',\n",
    "#                'koi_slogg', 'koi_smet', 'koi_srad', 'koi_smass', 'koi_fwm_stat_sig', 'koi_fwm_sra',\n",
    "#                'koi_fwm_sdec', 'koi_fwm_srao', 'koi_fwm_sdeco', 'koi_fwm_prao', 'koi_fwm_pdeco',\n",
    "#                'koi_dicco_mra', 'koi_dicco_mdec', 'koi_dicco_msky', 'koi_dikco_mdec',\n",
    "#                'koi_dikco_msky', 'koi_insol', 'koi_srho', 'koi_score']\n",
    "\n",
    "# select_col = ', '.join(col_to_pull)\n",
    "\n",
    "# params = {'select': '{}'.format(select_col), 'table': 'cumulative', 'format': 'csv'}\n",
    "\n",
    "# results = requests.get(api_url, params=params)\n",
    "\n",
    "# with open('../data/raw/kepler-cumulative-from-api-select-col.csv', 'w') as f:\n",
    "#     f.write(results.text)"
   ]
  }
 ],
 "metadata": {
  "kernelspec": {
   "display_name": "Python 3 (ipykernel)",
   "language": "python",
   "name": "python3"
  },
  "language_info": {
   "codemirror_mode": {
    "name": "ipython",
    "version": 3
   },
   "file_extension": ".py",
   "mimetype": "text/x-python",
   "name": "python",
   "nbconvert_exporter": "python",
   "pygments_lexer": "ipython3",
   "version": "3.8.10"
  }
 },
 "nbformat": 4,
 "nbformat_minor": 4
}
